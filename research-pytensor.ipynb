{
 "cells": [
  {
   "cell_type": "code",
   "execution_count": 1,
   "metadata": {},
   "outputs": [
    {
     "data": {
      "text/plain": [
       "'0.4.0'"
      ]
     },
     "execution_count": 1,
     "metadata": {},
     "output_type": "execute_result"
    }
   ],
   "source": [
    "import pytensor\n",
    "import pytensor.tensor as pt\n",
    "import pymc as pm\n",
    "import matplotlib.pyplot as plt\n",
    "import numpy as np\n",
    "import scipy.stats\n",
    "import sunode\n",
    "\n",
    "sunode.__version__\n"
   ]
  },
  {
   "cell_type": "code",
   "execution_count": 2,
   "metadata": {},
   "outputs": [
    {
     "name": "stdout",
     "output_type": "stream",
     "text": [
      "\n",
      "x type: TensorType(float64, ())\n",
      "x name = x\n",
      "---\n",
      "y type: TensorType(float64, (4,))\n",
      "y name = y\n",
      "\n",
      "TensorConstant{(1,) of 4}\n"
     ]
    }
   ],
   "source": [
    "\n",
    "x = pt.scalar(name=\"x\")\n",
    "y = pt.vector(name=\"y\",shape=(4,))\n",
    "\n",
    "print(\n",
    "    f\"\"\"\n",
    "x type: {x.type}\n",
    "x name = {x.name}\n",
    "---\n",
    "y type: {y.type}\n",
    "y name = {y.name}\n",
    "\"\"\"\n",
    ")\n",
    "print(y.shape)\n",
    "\n"
   ]
  },
  {
   "cell_type": "code",
   "execution_count": 3,
   "metadata": {},
   "outputs": [
    {
     "name": "stdout",
     "output_type": "stream",
     "text": [
      "Subtensor{int64}.0\n"
     ]
    }
   ],
   "source": [
    "print(y[5])"
   ]
  },
  {
   "cell_type": "code",
   "execution_count": 4,
   "metadata": {},
   "outputs": [
    {
     "data": {
      "image/png": "[encoded data removed]",
      "text/plain": [
       "<Figure size 1000x400 with 2 Axes>"
      ]
     },
     "metadata": {},
     "output_type": "display_data"
    },
    {
     "data": {
      "text/plain": [
       "<Figure size 640x480 with 0 Axes>"
      ]
     },
     "metadata": {},
     "output_type": "display_data"
    }
   ],
   "source": [
    "import pymc as pm\n",
    "import numpy as np\n",
    "import matplotlib.pyplot as plt\n",
    "from mpl_toolkits.mplot3d import Axes3D\n",
    "\n",
    "np.random.seed(123)\n",
    "\n",
    "alpha=1\n",
    "sigma=1\n",
    "beta =[1, 2.5]\n",
    "\n",
    "N=100\n",
    "\n",
    "X1=np.random.randn(N)\n",
    "X2=np.random.randn(N)\n",
    "\n",
    "Y=alpha + beta[0]*X1 + beta[1]*X2 + np.random.randn(N)*sigma\n",
    "\n",
    "%matplotlib inline\n",
    "fig1,ax1 = plt.subplots(1, 2, figsize=(10,4));\n",
    "ax1[0].scatter(X1, Y);ax1[0].set_xlabel('X1');ax1[0].set_ylabel('Y'); \n",
    "ax1[1].scatter(X2, Y);ax1[1].set_xlabel('X2');ax1[1].set_ylabel('Y');\n",
    "\n",
    "fig2 = plt.figure(2);\n",
    "ax2 = Axes3D(fig2);\n",
    "ax2.scatter(X1,X2,Y);\n",
    "ax2.set_xlabel('X1');\n",
    "ax2.set_ylabel('X2');\n",
    "ax2.set_zlabel('Y');\n",
    "\n",
    "basic_model = pm.Model()\n",
    "with basic_model:\n",
    "    alpha=pm.Normal('alpha',mu=0,sigma=10)\n",
    "    beta=pm.Normal('beta',mu=0,sigma=10,shape=2)\n",
    "    sigma=pm.HalfNormal('sigma',sigma=1)\n",
    "\n",
    "    mu=alpha+beta[0]*X1+beta[1]*X2\n",
    "\n",
    "    Y_obs=pm.Normal('Y_obs',mu=mu,sigma=sigma,observed=Y)"
   ]
  },
  {
   "cell_type": "code",
   "execution_count": 8,
   "metadata": {},
   "outputs": [
    {
     "name": "stderr",
     "output_type": "stream",
     "text": [
      "Auto-assigning NUTS sampler...\n",
      "Initializing NUTS using jitter+adapt_diag...\n",
      "Multiprocess sampling (4 chains in 4 jobs)\n",
      "NUTS: [alpha, beta, sigma]\n"
     ]
    },
    {
     "data": {
      "text/html": [
       "\n",
       "<style>\n",
       "    /* Turns off some styling */\n",
       "    progress {\n",
       "        /* gets rid of default border in Firefox and Opera. */\n",
       "        border: none;\n",
       "        /* Needs to be in here for Safari polyfill so background images work as expected. */\n",
       "        background-size: auto;\n",
       "    }\n",
       "    progress:not([value]), progress:not([value])::-webkit-progress-bar {\n",
       "        background: repeating-linear-gradient(45deg, #7e7e7e, #7e7e7e 10px, #5c5c5c 10px, #5c5c5c 20px);\n",
       "    }\n",
       "    .progress-bar-interrupted, .progress-bar-interrupted::-webkit-progress-bar {\n",
       "        background: #F44336;\n",
       "    }\n",
       "</style>\n"
      ],
      "text/plain": [
       "<IPython.core.display.HTML object>"
      ]
     },
     "metadata": {},
     "output_type": "display_data"
    },
    {
     "data": {
      "text/html": [
       "\n",
       "    <div>\n",
       "      <progress value='12000' class='' max='12000' style='width:300px; height:20px; vertical-align: middle;'></progress>\n",
       "      100.00% [12000/12000 00:00&lt;00:00 Sampling 4 chains, 0 divergences]\n",
       "    </div>\n",
       "    "
      ],
      "text/plain": [
       "<IPython.core.display.HTML object>"
      ]
     },
     "metadata": {},
     "output_type": "display_data"
    },
    {
     "name": "stderr",
     "output_type": "stream",
     "text": [
      "Sampling 4 chains for 1_000 tune and 2_000 draw iterations (4_000 + 8_000 draws total) took 1 seconds.\n"
     ]
    }
   ],
   "source": [
    "with basic_model:\n",
    "    trace = pm.sample(2000)\n",
    "    "
   ]
  },
  {
   "cell_type": "code",
   "execution_count": 9,
   "metadata": {},
   "outputs": [
    {
     "data": {
      "text/html": [
       "<div>\n",
       "<style scoped>\n",
       "    .dataframe tbody tr th:only-of-type {\n",
       "        vertical-align: middle;\n",
       "    }\n",
       "\n",
       "    .dataframe tbody tr th {\n",
       "        vertical-align: top;\n",
       "    }\n",
       "\n",
       "    .dataframe thead th {\n",
       "        text-align: right;\n",
       "    }\n",
       "</style>\n",
       "<table border=\"1\" class=\"dataframe\">\n",
       "  <thead>\n",
       "    <tr style=\"text-align: right;\">\n",
       "      <th></th>\n",
       "      <th>mean</th>\n",
       "      <th>sd</th>\n",
       "      <th>hdi_3%</th>\n",
       "      <th>hdi_97%</th>\n",
       "      <th>mcse_mean</th>\n",
       "      <th>mcse_sd</th>\n",
       "      <th>ess_bulk</th>\n",
       "      <th>ess_tail</th>\n",
       "      <th>r_hat</th>\n",
       "    </tr>\n",
       "  </thead>\n",
       "  <tbody>\n",
       "    <tr>\n",
       "      <th>alpha</th>\n",
       "      <td>0.906</td>\n",
       "      <td>0.099</td>\n",
       "      <td>0.726</td>\n",
       "      <td>1.102</td>\n",
       "      <td>0.001</td>\n",
       "      <td>0.001</td>\n",
       "      <td>12371.0</td>\n",
       "      <td>6044.0</td>\n",
       "      <td>1.0</td>\n",
       "    </tr>\n",
       "    <tr>\n",
       "      <th>beta[0]</th>\n",
       "      <td>0.949</td>\n",
       "      <td>0.087</td>\n",
       "      <td>0.782</td>\n",
       "      <td>1.106</td>\n",
       "      <td>0.001</td>\n",
       "      <td>0.001</td>\n",
       "      <td>14079.0</td>\n",
       "      <td>6405.0</td>\n",
       "      <td>1.0</td>\n",
       "    </tr>\n",
       "    <tr>\n",
       "      <th>beta[1]</th>\n",
       "      <td>2.523</td>\n",
       "      <td>0.102</td>\n",
       "      <td>2.331</td>\n",
       "      <td>2.713</td>\n",
       "      <td>0.001</td>\n",
       "      <td>0.001</td>\n",
       "      <td>11065.0</td>\n",
       "      <td>6215.0</td>\n",
       "      <td>1.0</td>\n",
       "    </tr>\n",
       "    <tr>\n",
       "      <th>sigma</th>\n",
       "      <td>0.990</td>\n",
       "      <td>0.071</td>\n",
       "      <td>0.857</td>\n",
       "      <td>1.122</td>\n",
       "      <td>0.001</td>\n",
       "      <td>0.000</td>\n",
       "      <td>13208.0</td>\n",
       "      <td>6663.0</td>\n",
       "      <td>1.0</td>\n",
       "    </tr>\n",
       "  </tbody>\n",
       "</table>\n",
       "</div>"
      ],
      "text/plain": [
       "          mean     sd  hdi_3%  hdi_97%  mcse_mean  mcse_sd  ess_bulk  \\\n",
       "alpha    0.906  0.099   0.726    1.102      0.001    0.001   12371.0   \n",
       "beta[0]  0.949  0.087   0.782    1.106      0.001    0.001   14079.0   \n",
       "beta[1]  2.523  0.102   2.331    2.713      0.001    0.001   11065.0   \n",
       "sigma    0.990  0.071   0.857    1.122      0.001    0.000   13208.0   \n",
       "\n",
       "         ess_tail  r_hat  \n",
       "alpha      6044.0    1.0  \n",
       "beta[0]    6405.0    1.0  \n",
       "beta[1]    6215.0    1.0  \n",
       "sigma      6663.0    1.0  "
      ]
     },
     "execution_count": 9,
     "metadata": {},
     "output_type": "execute_result"
    }
   ],
   "source": [
    "import arviz as az\n",
    "az.summary(trace)"
   ]
  },
  {
   "cell_type": "code",
   "execution_count": null,
   "metadata": {},
   "outputs": [],
   "source": []
  }
 ],
 "metadata": {
  "kernelspec": {
   "display_name": "pymc5",
   "language": "python",
   "name": "pymc5"
  },
  "language_info": {
   "codemirror_mode": {
    "name": "ipython",
    "version": 3
   },
   "file_extension": ".py",
   "mimetype": "text/x-python",
   "name": "python",
   "nbconvert_exporter": "python",
   "pygments_lexer": "ipython3",
   "version": "3.9.16"
  }
 },
 "nbformat": 4,
 "nbformat_minor": 4
}
