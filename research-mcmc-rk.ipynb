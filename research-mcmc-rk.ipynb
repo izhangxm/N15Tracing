{
 "cells": [
  {
   "cell_type": "code",
   "execution_count": 1,
   "id": "a445e139-a70f-42a7-b622-ce7b59ecce1c",
   "metadata": {},
   "outputs": [],
   "source": [
    "#! /usr/bin/python\n",
    "# -*- coding: utf-8 -*-\n",
    "# @author izhangxm\n",
    "# Copyright 2017 izhangxm@gmail.com. All Rights Reserved.\n",
    "#\n",
    "# Licensed under the Apache License, Version 2.0 (the \"License\");\n",
    "# you may not use this file except in compliance with the License.\n",
    "# You may obtain a copy of the License at\n",
    "#\n",
    "#     http://www.apache.org/licenses/LICENSE-2.0\n",
    "#\n",
    "# Unless required by applicable law or agreed to in writing, software\n",
    "# distributed under the License is distributed on an \"AS IS\" BASIS,\n",
    "# WITHOUT WARRANTIES OR CONDITIONS OF ANY KIND, either express or implied.\n",
    "# See the License for the specific language governing permissions and\n",
    "# limitations under the License.\n",
    "# =============================================================================="
   ]
  },
  {
   "cell_type": "code",
   "execution_count": 21,
   "id": "09fda08e-37e5-470c-aca7-49be59cc4cf9",
   "metadata": {},
   "outputs": [],
   "source": [
    "import arviz as az\n",
    "import pandas as pd\n",
    "import matplotlib.pyplot as plt\n",
    "import numpy as np\n",
    "import pymc as pm\n",
    "from itertools import product\n",
    "import os.path as osp\n",
    "from scipy.optimize import leastsq\n",
    "import time\n",
    "from scipy.integrate import solve_ivp\n",
    "from scipy.integrate import odeint\n",
    "import math\n",
    "import sunode\n",
    "import sunode.wrappers.as_pytensor\n",
    "from copy import deepcopy\n",
    "\n",
    "# from tqdm import tqdm, trange\n",
    "from tqdm.notebook import  tqdm\n",
    "from IPython.display import display as print\n",
    "from datetime import datetime\n",
    "\n",
    "%config InlineBackend.figure_format = 'retina'\n",
    "az.style.use(\"arviz-darkgrid\")"
   ]
  },
  {
   "cell_type": "code",
   "execution_count": 109,
   "id": "f0c5995b-88f0-4e33-abd7-f5c5873d83d9",
   "metadata": {},
   "outputs": [],
   "source": [
    "class MyDataset(object):\n",
    "\n",
    "    def __init__(self, dataset_path):\n",
    "\n",
    "        self.dataset_path = dataset_path\n",
    "        \n",
    "        df = pd.read_csv(dataset_path)\n",
    "        \n",
    "        self.df = df\n",
    "        self._setup()\n",
    "    \n",
    "    def _setup(self):\n",
    "        \n",
    "        df = self.df\n",
    "        # 数据初步处理\n",
    "        # 计算反应速率rate，初始速率固定设置为0\n",
    "        for c_i, (col_name, col_sr) in enumerate(df.items()):\n",
    "            if \"error\" in col_name or \"time\" in col_name or \"rate\" in col_name:\n",
    "                continue\n",
    "            rate_col_name = f\"{col_name}_rate\"\n",
    "            rates = []\n",
    "            pre_t = None\n",
    "            pre_v = None\n",
    "            for th, (index, value) in zip(df['time'], col_sr.items()):\n",
    "                if int(index) == 0:\n",
    "                    rates.append(0.0)\n",
    "                    pre_t = th\n",
    "                    pre_v = value\n",
    "                    continue\n",
    "\n",
    "                delta_t = th - pre_t\n",
    "                delta_value = value - pre_v\n",
    "                # print(col_name, index, pre_t, th, pre_v ,value)\n",
    "                rates.append(delta_value / delta_t)\n",
    "                pre_t = th\n",
    "                pre_v = value\n",
    "            df[rate_col_name] = rates\n",
    "\n",
    "        # 准备输出值 Y\n",
    "        self.cct_names = []\n",
    "        for x in self.df.columns:\n",
    "            if \"time\" in x or \"error\" in x or \"rate\" in x:\n",
    "                continue\n",
    "            self.cct_names.append(x)\n",
    "        self.rates_names = [f\"{x}_rate\" for x in self.cct_names]\n",
    "        self.error_names = [f\"{x}-error\" for x in self.cct_names]\n",
    "\n",
    "        self.cct = self.df[self.cct_names].values\n",
    "        self.rates = self.df[self.rates_names].values\n",
    "        self.errors = self.df[self.error_names].values\n",
    "    \n",
    "    \n",
    "    def set_as_sim_dataset(self, dcdt_fuc, t_eval, y0, args):\n",
    "        \n",
    "        y = odeint(dcdt_fuc, y0=y0, t=t_eval, args=args)\n",
    "        \n",
    "        # y.shape (size, 10)\n",
    "        df_new = pd.DataFrame(columns=['time'] + self.cct_names)\n",
    "        df_new['time'] = t_eval\n",
    "        \n",
    "        for c_name, col_val in zip(self.cct_names, np.transpose(y, [1,0])):\n",
    "            df_new[c_name] = col_val\n",
    "            df_new[f\"{c_name}-error\"] = 0.001\n",
    "        \n",
    "        self.df = df_new\n",
    "        self._setup()\n",
    "    \n",
    "    def set_dataset(self, c_pred_df):\n",
    "        \n",
    "        df = deepcopy(c_pred_df)\n",
    "        df['time'] = self.df['time'].values\n",
    "        for c_name in self.cct_names:\n",
    "            c_error_name = f\"{c_name}-error\"\n",
    "            n_len = len(df[c_name].values)\n",
    "            _error = np.repeat(0.0001, n_len)\n",
    "            df[c_error_name] = _error\n",
    "        self.df = df\n",
    "        self._setup()\n",
    "\n",
    "\n",
    "    def get_rates(self):\n",
    "        return self.rates\n",
    "\n",
    "    def get_df(self):\n",
    "        return self.df\n",
    "\n",
    "    def get_errors(self):\n",
    "        return self.errors\n",
    "\n",
    "    def get_cct(self):\n",
    "        return self.cct\n",
    "\n",
    "    def get_var_col_names(self):\n",
    "        return self.cct_names, self.rates_names, self.error_names\n",
    "\n",
    "    def get_weights(self):\n",
    "        max_value = self.df[self.cct_names].describe().loc['max'].values.max()\n",
    "\n",
    "        vars_max = self.df[self.cct_names].describe().loc['max']\n",
    "        weights = (max_value / vars_max).values\n",
    "\n",
    "        return np.array(weights)\n",
    "\n",
    "    def get_vars_max(self):\n",
    "        vars_max = self.df[self.cct_names].describe().loc['max'].values\n",
    "        return vars_max\n",
    "\n",
    "\n",
    "def get_format_time(f_s=None):\n",
    "    haomiao = str(time.time()).split('.')[-1]\n",
    "    if f_s is None:\n",
    "        f_s = \"%Y-%-m-%d %H:%M:%S.\"\n",
    "        return datetime.now().strftime(f_s) + haomiao\n",
    "    return datetime.now().strftime(f_s)\n",
    "def plot_dataset(dataset, dataset_pred=None):\n",
    "    \n",
    "    df = dataset.get_df()\n",
    "    cct_names, rates_names, error_names = dataset.get_var_col_names()\n",
    "    \n",
    "    cols = 5\n",
    "    rows = math.ceil(len(cct_names) / cols)\n",
    "\n",
    "    fig, fig_axes = plt.subplots(ncols=cols, nrows=rows, figsize=(4.2 * cols, 4 * rows), dpi=100)\n",
    "    if isinstance(fig_axes, np.ndarray):\n",
    "        fig_axes = fig_axes.reshape(-1)\n",
    "    else:\n",
    "        fig_axes = [fig_axes]\n",
    "\n",
    "    for i, axes in enumerate(fig_axes):\n",
    "        if i >= len(cct_names):\n",
    "            axes.axis('off')\n",
    "            continue\n",
    "        \n",
    "        y_name = cct_names[i]\n",
    "        Y = df[y_name].values\n",
    "        axes.plot(df['time'].values, Y, 'g', label=f\"ob\")\n",
    "        axes.set_ylabel(f'cct_{y_name}')\n",
    "        axes.set_xlabel(f'time(h)')\n",
    "\n",
    "        # axes.plot(df['time'].values, df[rates_names[i]].values, '+', label=f\"rate\")\n",
    "        \n",
    "        if dataset_pred:\n",
    "            _df_pred = dataset_pred.get_df()\n",
    "            t_eval = _df_pred['time'].values\n",
    "            axes.plot(t_eval, _df_pred[y_name].values, 'r', label=f\"c(t)\")\n",
    "        \n",
    "        \n",
    "        # axes.plot(t_eval, dcdt_df[y_name].values,'g', label=f\"c'(t)\")\n",
    "\n",
    "        axes.legend()\n",
    "        # axes.set_title(f\"{y_name}\", fontsize=14)\n",
    "\n",
    "    plt.tight_layout()\n",
    "    plt.show()"
   ]
  },
  {
   "cell_type": "code",
   "execution_count": 102,
   "id": "50ef57de-83b3-4924-8acb-265c58275a0c",
   "metadata": {},
   "outputs": [],
   "source": [
    "def get_dcdt_func(k_kinetics):\n",
    "    k_kinetics = np.array(k_kinetics).astype(np.uint8)\n",
    "    def _dcdt_func(t, c, p):\n",
    "        r1 = p.k1 * c.xN2 if k_kinetics[0] == 1 else p.k1\n",
    "        r2 = p.k2 * c.xNH3 if k_kinetics[1] == 1 else p.k2\n",
    "        r3 = p.k3 * c.xNO2 if k_kinetics[2] == 1 else p.k3\n",
    "        r4 = p.k4 * c.xNO3 if k_kinetics[3] == 1 else p.k4\n",
    "        r5 = p.k5 * c.xNO2 if k_kinetics[4] == 1 else p.k5\n",
    "        r6 = p.k6 * c.xNO2 * c.xNO3 if k_kinetics[5] == 1 else p.k6\n",
    "        r7 = p.k7 * c.xNO3 if k_kinetics[6] == 1 else p.k7\n",
    "        r8 = p.k8 * c.xNO3 if k_kinetics[7] == 1 else p.k8\n",
    "        r9 = p.k9 * c.xNH3 if k_kinetics[8] == 1 else p.k9\n",
    "        r10 = p.k10 * c.xNOrg if k_kinetics[9] == 1 else p.k10\n",
    "        r11 = p.k11 * c.xNOrg if k_kinetics[10] == 1 else p.k11\n",
    "\n",
    "        \n",
    "        dc_xNH3 = 2 * r1 + r7 + r10 - r2 - r6 - r9\n",
    "        dc_xNO3 = r3 - r7 - r4 - r8 + r11\n",
    "        dc_xNO2 = r2 + r4 - r3 - r6 - 2 * r5\n",
    "        dc_xNOrg = r8 + r9 - r10 - r11\n",
    "        dc_xN2 = r5 + r6 - r1\n",
    "\n",
    "        dc_ANH3 = (2 * r1 * (c.AN2 - c.ANH3) + (c.ANO3 - c.ANH3) * r7 + (c.ANOrg - c.ANH3) * r10) / c.xNH3\n",
    "        dc_ANO3 = ((c.ANO2 - c.ANO3) * r2 + (c.ANOrg - c.ANO3) * r11) / c.xNO3\n",
    "        dc_ANO2 = ((c.ANH3 - c.ANO2) * r2 + (c.ANO3 - c.ANO2) * r4) / c.xNO2\n",
    "        dc_ANOrg = ((c.ANO3 - c.ANOrg) * r8 + (c.ANH3 - c.ANOrg) * r9) / c.xNOrg\n",
    "        dc_AN2 = ((c.ANO2 - c.AN2) * r5 + (c.ANO2 * c.ANH3 - c.AN2) * r6) / c.xN2\n",
    "\n",
    "        # dcdts = [dc_xNH3, dc_xNO3, dc_xNO2, dc_xNOrg, dc_xN2, dc_ANH3, dc_ANO3, dc_ANO2, dc_ANOrg, dc_AN2]\n",
    "        \n",
    "        dcdts =  {\n",
    "            'xNH3': dc_xNH3,\n",
    "            'xNO3': dc_xNO3,\n",
    "            'xNO2': dc_xNO2,\n",
    "            'xNOrg': dc_xNOrg,\n",
    "            'xN2': dc_xN2,\n",
    "            'ANH3': dc_ANH3,\n",
    "            'ANO3': dc_ANO3,\n",
    "            'ANO2': dc_ANO2,\n",
    "            'ANOrg': dc_ANOrg,\n",
    "            'AN2': dc_AN2,\n",
    "        }\n",
    "        return dcdts\n",
    "    \n",
    "    return _dcdt_func"
   ]
  },
  {
   "cell_type": "code",
   "execution_count": 103,
   "id": "3051c970",
   "metadata": {},
   "outputs": [],
   "source": [
    "def dcdt_func_for_odeint(c, t, ks, k_kinetics):\n",
    "    \n",
    "    # print(c, t, ks, k_kinetics)\n",
    "    # print()\n",
    "    c_xNH3, c_xNO3, c_xNO2, c_xNOrg, c_xN2, c_ANH3, c_ANO3, c_ANO2, c_ANOrg, c_AN2 = c\n",
    "    \n",
    "    r1 = ks[0] * c_xN2 if k_kinetics[0] == 1 else ks[0]\n",
    "    r2 = ks[1] * c_xNH3 if k_kinetics[1] == 1 else ks[1]\n",
    "    r3 = ks[2] * c_xNO2 if k_kinetics[2] == 1 else ks[2]\n",
    "    r4 = ks[3] * c_xNO3 if k_kinetics[3] == 1 else ks[3]\n",
    "    r5 = ks[4] * c_xNO2 if k_kinetics[4] == 1 else ks[4]\n",
    "    r6 = ks[5] * c_xNO2 * c_xNO3 if k_kinetics[5] == 1 else ks[5]\n",
    "    r7 = ks[6] * c_xNO3 if k_kinetics[6] == 1 else ks[6]\n",
    "    r8 = ks[7] * c_xNO3 if k_kinetics[7] == 1 else ks[7]\n",
    "    r9 = ks[8] * c_xNH3 if k_kinetics[8] == 1 else ks[8]\n",
    "    r10 = ks[9] * c_xNOrg if k_kinetics[9] == 1 else ks[9]\n",
    "    r11 = ks[10] * c_xNOrg if k_kinetics[10] == 1 else ks[10]\n",
    "    \n",
    "    dc_xNH3 = 2 * r1 + r7 + r10 - r2 - r6 - r9\n",
    "    dc_xNO3 = r3 - r7 - r4 - r8 + r11\n",
    "    dc_xNO2 = r2 + r4 - r3 - r6 - 2 * r5\n",
    "    dc_xNOrg = r8 + r9 - r10 - r11\n",
    "    dc_xN2 = r5 + r6 - r1\n",
    "    dc_ANH3 = (2 * r1 * (c_AN2 - c_ANH3) + (c_ANO3 - c_ANH3) * r7 + (c_ANOrg - c_ANH3) * r10) / c_xNH3\n",
    "    dc_ANO3 = ((c_ANO2 - c_ANO3) * r2 + (c_ANOrg - c_ANO3) * r11) / c_xNO3\n",
    "    dc_ANO2 = ((c_ANH3 - c_ANO2) * r2 + (c_ANO3 - c_ANO2) * r4) / c_xNO2\n",
    "    dc_ANOrg = ((c_ANO3 - c_ANOrg) * r8 + (c_ANH3 - c_ANOrg) * r9) / c_xNOrg\n",
    "    dc_AN2 = ((c_ANO2 - c_AN2) * r5 + (c_ANO2 * c_ANH3 - c_AN2) * r6) / c_xN2\n",
    "\n",
    "    dcdts = [dc_xNH3, dc_xNO3, dc_xNO2, dc_xNOrg, dc_xN2, dc_ANH3, dc_ANO3, dc_ANO2, dc_ANOrg, dc_AN2]\n",
    "\n",
    "    return np.array(dcdts)\n",
    "\n",
    "# simulator function\n",
    "def competition_model(rng, t_eval, y0,  ks, k_kinetics, size=None):\n",
    "    # print(y0)\n",
    "    y = odeint(dcdt_func_for_odeint, y0=y0, t=t_eval, args=(ks, k_kinetics))\n",
    "    return y\n"
   ]
  },
  {
   "cell_type": "code",
   "execution_count": 92,
   "id": "a80b5701-2324-4e1e-bfb9-fbf50a15b016",
   "metadata": {},
   "outputs": [],
   "source": [
    "def r2_loss(pred, y):\n",
    "    r2_loss = 1 - np.square(pred - y).sum() / np.square(y - np.mean(y)).sum()\n",
    "    return r2_loss\n",
    "\n",
    "\n",
    "def get_model(dataset, k_kinetics, k_sigma_priors=0.01, kf_type=0):\n",
    "\n",
    "    df = dataset.get_df()\n",
    "    times = df['time'].values\n",
    "    \n",
    "    errors = dataset.get_errors()\n",
    "    rates = dataset.get_rates()\n",
    "    cct_names, rates_names, error_names = dataset.get_var_col_names()\n",
    "        \n",
    "    # 定义参数优化模型\n",
    "    mcmc_model = pm.Model()\n",
    "    ## 参数个数\n",
    "    params_n = 11\n",
    "    parames ={}\n",
    "    \n",
    "    with mcmc_model:\n",
    "        for ki in range(1, params_n + 1):\n",
    "            if kf_type == 0:\n",
    "                p_dense = pm.HalfNormal(f\"k{ki}\", sigma=k_sigma_priors)\n",
    "            else:\n",
    "                p_dense = pm.Normal(f\"k{ki}\",mu=0, sigma=k_sigma_priors)\n",
    "            parames[f\"k{ki}\"] = (p_dense, ())\n",
    "    \n",
    "    # parames['k_kinetics'] = np.array(k_kinetics, dtype=np.float64)\n",
    "    parames['extra']=  np.zeros(1)\n",
    "    \n",
    "    c0 = {}\n",
    "    with mcmc_model:\n",
    "        for c_name in cct_names:\n",
    "            _maxx = df[c_name].values.max()\n",
    "            c0[f\"{c_name}\"] = (pm.HalfNormal(f\"{c_name}_s\", sigma=_maxx), ())\n",
    "            # c0[f\"{c_name}\"] = (pm.Normal(f\"{c_name}_s\", mu=_meanx, sigma=s), ())\n",
    "        \n",
    "    \n",
    "        y_hat, _, problem, solver, _, _ = sunode.wrappers.as_pytensor.solve_ivp(\n",
    "            y0=c0,\n",
    "            params=parames,\n",
    "            rhs=get_dcdt_func(k_kinetics),\n",
    "            tvals=times,\n",
    "            t0=times[0],\n",
    "        )\n",
    "        \n",
    "        sd = pm.HalfNormal('sd')\n",
    "        for c_name in cct_names:\n",
    "            pm.Normal(f'{c_name}', mu=y_hat[f\"{c_name}\"], sigma=sd, observed=df[f\"{c_name}\"].values)\n",
    "            pm.Deterministic(f'{c_name}_mu', y_hat[f\"{c_name}\"])\n",
    "\n",
    "    return mcmc_model\n"
   ]
  },
  {
   "cell_type": "code",
   "execution_count": 93,
   "id": "99cb2ea4",
   "metadata": {},
   "outputs": [],
   "source": [
    "def get_predict_ks(idata):\n",
    "    parames_summary = az.summary(idata, round_to=10)\n",
    "    ks_names = [f\"k{x+1}\" for x in range(11)]\n",
    "\n",
    "    predict_ks = []\n",
    "    for k_name in ks_names:\n",
    "        k_v = parames_summary[\"mean\"][k_name]\n",
    "        predict_ks.append(k_v)\n",
    "    return np.array(predict_ks)\n"
   ]
  },
  {
   "cell_type": "code",
   "execution_count": 94,
   "id": "9fbc7fca",
   "metadata": {
    "collapsed": false,
    "jupyter": {
     "outputs_hidden": false
    }
   },
   "outputs": [],
   "source": [
    "# k_kinetics = np.repeat(1, 11).astype(np.uint8)\n",
    "k_kinetics = np.array([0,1,1,1,1,0,0,1,1,1,0])\n",
    "# ks = np.random.random(11)/100 # 先验k\n",
    "ks = np.array([0.00071942, 0.00269696, 0.00498945, 0.00444931, 0.00571299, 0.00801272, 0.00131931, 0.00319959, 0.00415571, 0.00228432, 0.00177611])\n",
    "#  =======================================================\n",
    "\n",
    "# t_eval = np.arange(0, 150, 5)\n",
    "\n",
    "dataset = MyDataset(\"dataset/data.csv\")\n",
    "df = dataset.get_df()\n",
    "cct_names, rates_names, error_names = dataset.get_var_col_names()\n",
    "\n",
    "# c0 = df[cct_names].iloc[0].values\n",
    "# dataset.set_as_sim_dataset(dcdt_func_for_odeint, t_eval, c0, args=(ks, k_kinetics))\n",
    "# df = dataset.get_df()\n",
    "\n",
    "# plot_dataset(dataset=dataset)\n",
    "mcmc_model = get_model(dataset, k_kinetics, k_sigma_priors=0.01, kf_type=0)\n"
   ]
  },
  {
   "cell_type": "code",
   "execution_count": null,
   "id": "ea209c01",
   "metadata": {},
   "outputs": [],
   "source": [
    "plot_dataset(dataset=dataset)"
   ]
  },
  {
   "cell_type": "code",
   "execution_count": null,
   "id": "bf4ee52b-5205-49a2-8e94-e4e8d2ea0bcc",
   "metadata": {
    "tags": []
   },
   "outputs": [],
   "source": [
    "idata = pm.sample(draws=1000, model=mcmc_model, chains=4, cores=4)"
   ]
  },
  {
   "cell_type": "code",
   "execution_count": 104,
   "id": "a33528b3-c46a-4170-a7c5-c1381fd4e931",
   "metadata": {},
   "outputs": [
    {
     "data": {
      "text/plain": [
       "array([9.46627500e-04, 1.80282300e-04, 7.75364680e-03, 2.25054380e-03,\n",
       "       9.93785290e-03, 1.11419580e-03, 2.06023280e-03, 1.56184350e-03,\n",
       "       1.66389505e-02, 6.79560000e-05, 1.19875624e-02])"
      ]
     },
     "metadata": {},
     "output_type": "display_data"
    },
    {
     "data": {
      "text/html": [
       "<div>\n",
       "<style scoped>\n",
       "    .dataframe tbody tr th:only-of-type {\n",
       "        vertical-align: middle;\n",
       "    }\n",
       "\n",
       "    .dataframe tbody tr th {\n",
       "        vertical-align: top;\n",
       "    }\n",
       "\n",
       "    .dataframe thead th {\n",
       "        text-align: right;\n",
       "    }\n",
       "</style>\n",
       "<table border=\"1\" class=\"dataframe\">\n",
       "  <thead>\n",
       "    <tr style=\"text-align: right;\">\n",
       "      <th></th>\n",
       "      <th>xNH3</th>\n",
       "      <th>xNO3</th>\n",
       "      <th>xNO2</th>\n",
       "      <th>xNOrg</th>\n",
       "      <th>xN2</th>\n",
       "      <th>ANH3</th>\n",
       "      <th>ANO3</th>\n",
       "      <th>ANO2</th>\n",
       "      <th>ANOrg</th>\n",
       "      <th>AN2</th>\n",
       "    </tr>\n",
       "  </thead>\n",
       "  <tbody>\n",
       "    <tr>\n",
       "      <th>0</th>\n",
       "      <td>0.924</td>\n",
       "      <td>2.851</td>\n",
       "      <td>0.069</td>\n",
       "      <td>62.093</td>\n",
       "      <td>0.000</td>\n",
       "      <td>8.082</td>\n",
       "      <td>0.621</td>\n",
       "      <td>0.060</td>\n",
       "      <td>0.059</td>\n",
       "      <td>0.026</td>\n",
       "    </tr>\n",
       "    <tr>\n",
       "      <th>1</th>\n",
       "      <td>0.649</td>\n",
       "      <td>2.862</td>\n",
       "      <td>0.155</td>\n",
       "      <td>62.135</td>\n",
       "      <td>0.068</td>\n",
       "      <td>4.992</td>\n",
       "      <td>0.548</td>\n",
       "      <td>0.320</td>\n",
       "      <td>0.124</td>\n",
       "      <td>0.651</td>\n",
       "    </tr>\n",
       "    <tr>\n",
       "      <th>2</th>\n",
       "      <td>0.538</td>\n",
       "      <td>2.903</td>\n",
       "      <td>0.173</td>\n",
       "      <td>62.011</td>\n",
       "      <td>0.156</td>\n",
       "      <td>2.712</td>\n",
       "      <td>0.498</td>\n",
       "      <td>0.321</td>\n",
       "      <td>0.151</td>\n",
       "      <td>0.534</td>\n",
       "    </tr>\n",
       "    <tr>\n",
       "      <th>3</th>\n",
       "      <td>0.492</td>\n",
       "      <td>2.950</td>\n",
       "      <td>0.178</td>\n",
       "      <td>61.824</td>\n",
       "      <td>0.246</td>\n",
       "      <td>1.413</td>\n",
       "      <td>0.460</td>\n",
       "      <td>0.330</td>\n",
       "      <td>0.162</td>\n",
       "      <td>0.456</td>\n",
       "    </tr>\n",
       "  </tbody>\n",
       "</table>\n",
       "</div>"
      ],
      "text/plain": [
       "    xNH3   xNO3   xNO2   xNOrg    xN2   ANH3   ANO3   ANO2  ANOrg    AN2\n",
       "0  0.924  2.851  0.069  62.093  0.000  8.082  0.621  0.060  0.059  0.026\n",
       "1  0.649  2.862  0.155  62.135  0.068  4.992  0.548  0.320  0.124  0.651\n",
       "2  0.538  2.903  0.173  62.011  0.156  2.712  0.498  0.321  0.151  0.534\n",
       "3  0.492  2.950  0.178  61.824  0.246  1.413  0.460  0.330  0.162  0.456"
      ]
     },
     "metadata": {},
     "output_type": "display_data"
    }
   ],
   "source": [
    "def get_result(dataset, idata):\n",
    "    res_df = az.summary(idata)\n",
    "    \n",
    "    predict_ks = get_predict_ks(idata=idata)\n",
    "    \n",
    "\n",
    "    df = dataset.get_df()\n",
    "    times = df['time'].values\n",
    "    \n",
    "    errors = dataset.get_errors()\n",
    "    rates = dataset.get_rates()\n",
    "    cct_names, rates_names, error_names = dataset.get_var_col_names()\n",
    "    \n",
    "    c_df = pd.DataFrame(columns=cct_names)\n",
    "    t_n = len(times)\n",
    "    for c_name in cct_names:\n",
    "        c_value = []\n",
    "        for i in range(t_n):\n",
    "            _x = res_df['mean'][f\"{c_name}_mu[{i}]\"]\n",
    "            c_value.append(_x)\n",
    "        c_df[c_name] = c_value\n",
    "    \n",
    "    return predict_ks, c_df\n",
    "\n",
    "\n",
    "predict_ks, c_df = get_result(dataset, idata)\n",
    "\n",
    "print(predict_ks)\n",
    "print(c_df[cct_names])\n",
    "# print(az.summary(idata))"
   ]
  },
  {
   "cell_type": "code",
   "execution_count": null,
   "id": "4dc0197c",
   "metadata": {},
   "outputs": [],
   "source": [
    "c_df['time']  = df['time'].values\n",
    "dataset_new = MyDataset(\"dataset/data.csv\")\n",
    "dataset_new.set_dataset(c_df)\n",
    "\n",
    "plot_dataset(dataset, dataset_pred=dataset_new)\n"
   ]
  },
  {
   "cell_type": "code",
   "execution_count": 106,
   "id": "45194ad8",
   "metadata": {
    "collapsed": false,
    "jupyter": {
     "outputs_hidden": false
    }
   },
   "outputs": [
    {
     "data": {
      "text/plain": [
       "0.9992822993532159"
      ]
     },
     "metadata": {},
     "output_type": "display_data"
    },
    {
     "data": {
      "text/plain": [
       "'r2: xNH3 -0.8926770700262396'"
      ]
     },
     "metadata": {},
     "output_type": "display_data"
    },
    {
     "data": {
      "text/plain": [
       "'r2: xNO3 -85.8514520337752'"
      ]
     },
     "metadata": {},
     "output_type": "display_data"
    },
    {
     "data": {
      "text/plain": [
       "'r2: xNO2 -5.94321655742469'"
      ]
     },
     "metadata": {},
     "output_type": "display_data"
    },
    {
     "data": {
      "text/plain": [
       "'r2: xNOrg -13.762082355263884'"
      ]
     },
     "metadata": {},
     "output_type": "display_data"
    },
    {
     "data": {
      "text/plain": [
       "'r2: xN2 -1.6093833586887976'"
      ]
     },
     "metadata": {},
     "output_type": "display_data"
    },
    {
     "data": {
      "text/plain": [
       "'r2: ANH3 0.9865236241877875'"
      ]
     },
     "metadata": {},
     "output_type": "display_data"
    },
    {
     "data": {
      "text/plain": [
       "'r2: ANO3 -448.7425181981374'"
      ]
     },
     "metadata": {},
     "output_type": "display_data"
    },
    {
     "data": {
      "text/plain": [
       "'r2: ANO2 -2.4792918569177638'"
      ]
     },
     "metadata": {},
     "output_type": "display_data"
    },
    {
     "data": {
      "text/plain": [
       "'r2: ANOrg -3.5620796821307694'"
      ]
     },
     "metadata": {},
     "output_type": "display_data"
    },
    {
     "data": {
      "text/plain": [
       "'r2: AN2 -2.8811935399551487'"
      ]
     },
     "metadata": {},
     "output_type": "display_data"
    }
   ],
   "source": [
    "r2_all = r2_loss(dataset.get_cct(), c_df[cct_names].values)\n",
    "print(r2_all)\n",
    "\n",
    "for c_name in cct_names:\n",
    "    _loss = r2_loss(dataset.df[c_name].values, c_df[c_name].values)\n",
    "    print(f\"r2: {c_name} {_loss}\")\n"
   ]
  },
  {
   "cell_type": "code",
   "execution_count": null,
   "id": "208c571b-3326-4315-946a-60be67f1779d",
   "metadata": {},
   "outputs": [],
   "source": [
    "k_kinetics = np.array([0,1,1,1,1,0,0,1,1,1,0])\n",
    "\n",
    "ks = predict_ks\n",
    "t_eval = np.arange(0, 150, 1)\n",
    "c0 = df[cct_names].iloc[0].values\n",
    "cs = odeint(dcdt_func_for_odeint, c0, t=t_eval, args=(ks, k_kinetics))\n",
    "# res = odeint(func=dcdt_func2, y0=c0, t=t_eval, args=(ks,k_kinetics))\n",
    "# cs = np.transpose(res, [1,0])\n",
    "\n",
    "print(cs.shape)\n",
    "\n",
    "cols = 5\n",
    "rows = math.ceil(len(cct_names) / cols)\n",
    "\n",
    "fig, fig_axes = plt.subplots(ncols=cols, nrows=rows, figsize=(4.2 * cols, 4 * rows), dpi=100)\n",
    "if isinstance(fig_axes, np.ndarray):\n",
    "    fig_axes = fig_axes.reshape(-1)\n",
    "else:\n",
    "    fig_axes = [fig_axes]\n",
    "\n",
    "for i, axes in enumerate(fig_axes):\n",
    "    if i >= len(cct_names):\n",
    "        axes.axis('off')\n",
    "        continue\n",
    "\n",
    "    y_name = cct_names[i]\n",
    "    Y = df[y_name].values\n",
    "    axes.plot(df['time'].values, Y, '*', label=f\"ob\")\n",
    "    axes.set_ylabel(f'cct_{y_name}')\n",
    "    axes.set_xlabel(f'time(h)')\n",
    "\n",
    "    # axes.plot(df['time'].values, df[rates_names[i]].values, '+', label=f\"rate\")\n",
    "\n",
    "    axes.plot(t_eval, cs[:, i], 'r', label=f\"c(t)\")\n",
    "    # axes.plot(t_eval, dcdt_df[y_name].values,'g', label=f\"c'(t)\")\n",
    "\n",
    "    axes.legend()\n",
    "    # axes.set_title(f\"{y_name}\", fontsize=14)\n",
    "\n",
    "plt.tight_layout()\n",
    "plt.show()\n",
    "\n"
   ]
  },
  {
   "cell_type": "code",
   "execution_count": 63,
   "id": "a8f72c53-decf-45f4-91fd-9c2129f1435a",
   "metadata": {},
   "outputs": [],
   "source": [
    "import pickle\n",
    "pickle.dump(idata,open(\"abc.np\", 'wb'))\n"
   ]
  },
  {
   "cell_type": "code",
   "execution_count": 64,
   "id": "fb046258",
   "metadata": {},
   "outputs": [
    {
     "data": {
      "text/html": [
       "<div>\n",
       "<style scoped>\n",
       "    .dataframe tbody tr th:only-of-type {\n",
       "        vertical-align: middle;\n",
       "    }\n",
       "\n",
       "    .dataframe tbody tr th {\n",
       "        vertical-align: top;\n",
       "    }\n",
       "\n",
       "    .dataframe thead th {\n",
       "        text-align: right;\n",
       "    }\n",
       "</style>\n",
       "<table border=\"1\" class=\"dataframe\">\n",
       "  <thead>\n",
       "    <tr style=\"text-align: right;\">\n",
       "      <th></th>\n",
       "      <th>mean</th>\n",
       "      <th>sd</th>\n",
       "      <th>hdi_3%</th>\n",
       "      <th>hdi_97%</th>\n",
       "      <th>mcse_mean</th>\n",
       "      <th>mcse_sd</th>\n",
       "      <th>ess_bulk</th>\n",
       "      <th>ess_tail</th>\n",
       "      <th>r_hat</th>\n",
       "    </tr>\n",
       "  </thead>\n",
       "  <tbody>\n",
       "    <tr>\n",
       "      <th>k1</th>\n",
       "      <td>0.008</td>\n",
       "      <td>0.006</td>\n",
       "      <td>0.000</td>\n",
       "      <td>0.019</td>\n",
       "      <td>0.000</td>\n",
       "      <td>0.000</td>\n",
       "      <td>1123.0</td>\n",
       "      <td>969.0</td>\n",
       "      <td>1.01</td>\n",
       "    </tr>\n",
       "    <tr>\n",
       "      <th>k2</th>\n",
       "      <td>0.000</td>\n",
       "      <td>0.000</td>\n",
       "      <td>0.000</td>\n",
       "      <td>0.000</td>\n",
       "      <td>0.000</td>\n",
       "      <td>0.000</td>\n",
       "      <td>340.0</td>\n",
       "      <td>1210.0</td>\n",
       "      <td>1.02</td>\n",
       "    </tr>\n",
       "    <tr>\n",
       "      <th>k3</th>\n",
       "      <td>0.008</td>\n",
       "      <td>0.006</td>\n",
       "      <td>0.000</td>\n",
       "      <td>0.019</td>\n",
       "      <td>0.000</td>\n",
       "      <td>0.000</td>\n",
       "      <td>678.0</td>\n",
       "      <td>714.0</td>\n",
       "      <td>1.01</td>\n",
       "    </tr>\n",
       "    <tr>\n",
       "      <th>k4</th>\n",
       "      <td>0.001</td>\n",
       "      <td>0.002</td>\n",
       "      <td>0.000</td>\n",
       "      <td>0.005</td>\n",
       "      <td>0.000</td>\n",
       "      <td>0.000</td>\n",
       "      <td>138.0</td>\n",
       "      <td>1686.0</td>\n",
       "      <td>1.05</td>\n",
       "    </tr>\n",
       "    <tr>\n",
       "      <th>k5</th>\n",
       "      <td>0.009</td>\n",
       "      <td>0.006</td>\n",
       "      <td>0.000</td>\n",
       "      <td>0.020</td>\n",
       "      <td>0.000</td>\n",
       "      <td>0.000</td>\n",
       "      <td>487.0</td>\n",
       "      <td>990.0</td>\n",
       "      <td>1.01</td>\n",
       "    </tr>\n",
       "    <tr>\n",
       "      <th>...</th>\n",
       "      <td>...</td>\n",
       "      <td>...</td>\n",
       "      <td>...</td>\n",
       "      <td>...</td>\n",
       "      <td>...</td>\n",
       "      <td>...</td>\n",
       "      <td>...</td>\n",
       "      <td>...</td>\n",
       "      <td>...</td>\n",
       "    </tr>\n",
       "    <tr>\n",
       "      <th>ANOrg_mu[3]</th>\n",
       "      <td>0.170</td>\n",
       "      <td>0.062</td>\n",
       "      <td>0.059</td>\n",
       "      <td>0.285</td>\n",
       "      <td>0.002</td>\n",
       "      <td>0.001</td>\n",
       "      <td>1026.0</td>\n",
       "      <td>1272.0</td>\n",
       "      <td>1.00</td>\n",
       "    </tr>\n",
       "    <tr>\n",
       "      <th>AN2_mu[0]</th>\n",
       "      <td>0.024</td>\n",
       "      <td>0.018</td>\n",
       "      <td>0.000</td>\n",
       "      <td>0.058</td>\n",
       "      <td>0.000</td>\n",
       "      <td>0.000</td>\n",
       "      <td>1817.0</td>\n",
       "      <td>1145.0</td>\n",
       "      <td>1.00</td>\n",
       "    </tr>\n",
       "    <tr>\n",
       "      <th>AN2_mu[1]</th>\n",
       "      <td>0.495</td>\n",
       "      <td>0.324</td>\n",
       "      <td>0.039</td>\n",
       "      <td>1.075</td>\n",
       "      <td>0.025</td>\n",
       "      <td>0.018</td>\n",
       "      <td>147.0</td>\n",
       "      <td>1687.0</td>\n",
       "      <td>1.04</td>\n",
       "    </tr>\n",
       "    <tr>\n",
       "      <th>AN2_mu[2]</th>\n",
       "      <td>0.454</td>\n",
       "      <td>0.225</td>\n",
       "      <td>0.085</td>\n",
       "      <td>0.881</td>\n",
       "      <td>0.010</td>\n",
       "      <td>0.007</td>\n",
       "      <td>537.0</td>\n",
       "      <td>2193.0</td>\n",
       "      <td>1.02</td>\n",
       "    </tr>\n",
       "    <tr>\n",
       "      <th>AN2_mu[3]</th>\n",
       "      <td>0.403</td>\n",
       "      <td>0.179</td>\n",
       "      <td>0.101</td>\n",
       "      <td>0.749</td>\n",
       "      <td>0.004</td>\n",
       "      <td>0.003</td>\n",
       "      <td>1871.0</td>\n",
       "      <td>2699.0</td>\n",
       "      <td>1.00</td>\n",
       "    </tr>\n",
       "  </tbody>\n",
       "</table>\n",
       "<p>62 rows × 9 columns</p>\n",
       "</div>"
      ],
      "text/plain": [
       "              mean     sd  hdi_3%  hdi_97%  mcse_mean  mcse_sd  ess_bulk  \\\n",
       "k1           0.008  0.006   0.000    0.019      0.000    0.000    1123.0   \n",
       "k2           0.000  0.000   0.000    0.000      0.000    0.000     340.0   \n",
       "k3           0.008  0.006   0.000    0.019      0.000    0.000     678.0   \n",
       "k4           0.001  0.002   0.000    0.005      0.000    0.000     138.0   \n",
       "k5           0.009  0.006   0.000    0.020      0.000    0.000     487.0   \n",
       "...            ...    ...     ...      ...        ...      ...       ...   \n",
       "ANOrg_mu[3]  0.170  0.062   0.059    0.285      0.002    0.001    1026.0   \n",
       "AN2_mu[0]    0.024  0.018   0.000    0.058      0.000    0.000    1817.0   \n",
       "AN2_mu[1]    0.495  0.324   0.039    1.075      0.025    0.018     147.0   \n",
       "AN2_mu[2]    0.454  0.225   0.085    0.881      0.010    0.007     537.0   \n",
       "AN2_mu[3]    0.403  0.179   0.101    0.749      0.004    0.003    1871.0   \n",
       "\n",
       "             ess_tail  r_hat  \n",
       "k1              969.0   1.01  \n",
       "k2             1210.0   1.02  \n",
       "k3              714.0   1.01  \n",
       "k4             1686.0   1.05  \n",
       "k5              990.0   1.01  \n",
       "...               ...    ...  \n",
       "ANOrg_mu[3]    1272.0   1.00  \n",
       "AN2_mu[0]      1145.0   1.00  \n",
       "AN2_mu[1]      1687.0   1.04  \n",
       "AN2_mu[2]      2193.0   1.02  \n",
       "AN2_mu[3]      2699.0   1.00  \n",
       "\n",
       "[62 rows x 9 columns]"
      ]
     },
     "execution_count": 64,
     "metadata": {},
     "output_type": "execute_result"
    }
   ],
   "source": [
    "aa = pickle.load(open(\"abc.np\", 'rb'))\n",
    "az.summary(aa)"
   ]
  },
  {
   "cell_type": "code",
   "execution_count": 65,
   "id": "922c7bfc",
   "metadata": {},
   "outputs": [],
   "source": [
    "kk_list_all = list(product([0,1], repeat=11))"
   ]
  },
  {
   "cell_type": "code",
   "execution_count": 76,
   "id": "7294ca2a",
   "metadata": {},
   "outputs": [
    {
     "data": {
      "text/plain": [
       "2"
      ]
     },
     "execution_count": 76,
     "metadata": {},
     "output_type": "execute_result"
    }
   ],
   "source": [
    "a = kk_list_all[2]\n",
    "x = \"\".join([f\"{x}\" for x in a])\n",
    "int(x,2)"
   ]
  },
  {
   "cell_type": "code",
   "execution_count": 83,
   "id": "3f96d5f9",
   "metadata": {},
   "outputs": [
    {
     "data": {
      "text/plain": [
       "'00000000010'"
      ]
     },
     "execution_count": 83,
     "metadata": {},
     "output_type": "execute_result"
    }
   ],
   "source": [
    "a = bin(2)[2:]\n",
    "f\"{a:0>11}\""
   ]
  },
  {
   "cell_type": "code",
   "execution_count": 88,
   "id": "bf1e0b5f",
   "metadata": {},
   "outputs": [
    {
     "data": {
      "text/plain": [
       "1"
      ]
     },
     "metadata": {},
     "output_type": "display_data"
    },
    {
     "data": {
      "text/plain": [
       "'func1'"
      ]
     },
     "metadata": {},
     "output_type": "display_data"
    },
    {
     "data": {
      "text/plain": [
       "2"
      ]
     },
     "metadata": {},
     "output_type": "display_data"
    },
    {
     "data": {
      "text/plain": [
       "'func12'"
      ]
     },
     "metadata": {},
     "output_type": "display_data"
    }
   ],
   "source": [
    "def get_dcdt(a):\n",
    "\n",
    "    def _re(b):\n",
    "        print(a,b)\n",
    "    return _re\n",
    "\n",
    "fun1  = get_dcdt(1)\n",
    "fun2 = get_dcdt(2)\n",
    "\n",
    "fun1(\"func1\")\n",
    "fun2(\"func12\")"
   ]
  },
  {
   "cell_type": "code",
   "execution_count": null,
   "id": "39d58282",
   "metadata": {},
   "outputs": [],
   "source": []
  }
 ],
 "metadata": {
  "kernelspec": {
   "display_name": "pymcmain",
   "language": "python",
   "name": "python3"
  },
  "language_info": {
   "codemirror_mode": {
    "name": "ipython",
    "version": 3
   },
   "file_extension": ".py",
   "mimetype": "text/x-python",
   "name": "python",
   "nbconvert_exporter": "python",
   "pygments_lexer": "ipython3",
   "version": "3.9.15"
  },
  "vscode": {
   "interpreter": {
    "hash": "cbd2c194b49ea80345e8ea18e3a6000c76ee140cf13f4f15affb9019c7957e43"
   }
  }
 },
 "nbformat": 4,
 "nbformat_minor": 5
}
