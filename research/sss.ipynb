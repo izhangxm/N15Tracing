{
 "cells": [
  {
   "cell_type": "code",
   "execution_count": null,
   "metadata": {},
   "outputs": [],
   "source": [
    "import subprocess\n",
    "import os\n",
    "\n",
    "def run_shell(shell):\n",
    "\n",
    "    cmd = subprocess.Popen(shell,stderr=subprocess.STDOUT, stdout=subprocess.PIPE, universal_newlines=True, shell=True)\n",
    "    # 实时输出\n",
    "    while True:\n",
    "        line = cmd.stdout.readline()\n",
    "        if not line and cmd.poll() != None:\n",
    "            break\n",
    "        if \"lsoda--  warning\" in line:\n",
    "            continue\n",
    "        if \"lsoda--  above warning\" in line:\n",
    "            continue\n",
    "        if \"such that in the machine\" in line:\n",
    "            continue\n",
    "        if \"solver will continue anywa\" in line:\n",
    "            continue\n",
    "        if \"      in above\" in line:\n",
    "            continue\n",
    "        if \"it will not be issued again for this proble\" in line:\n",
    "            continue\n",
    "        print(\"+++++prefix:\" + line.rstrip())\n",
    "    return cmd.returncode\n",
    "\n",
    "\n",
    "\n",
    "p = subprocess.Popen(\"which python\", shell=True,stdout=subprocess.PIPE)\n",
    "print(p.stdout.readline())\n",
    "\n",
    "\n",
    "\n",
    "\n",
    "python_exec = \"/opt/homebrew/Caskroom/mambaforge/base/envs/pymc4/bin/python\"\n",
    "cmd_str = f\"{python_exec} ../reasech-multi-process-v3.py\"\n",
    "print(cmd_str)\n",
    "\n",
    "run_shell(cmd_str)\n",
    "\n",
    "\n",
    "# run_shell(\"ping www.baidu.com -c 4\")"
   ]
  },
  {
   "cell_type": "code",
   "execution_count": null,
   "metadata": {},
   "outputs": [],
   "source": [
    "# env = os.environ.copy()\n",
    "# env['PYTHONUNBUFFERED'] = '1'\n",
    "# env['PWD'] = '/Users/izhangxm/WorkStation/PycharmProjects/N15Tracing'\n",
    "\n",
    "\n",
    "p = subprocess.Popen(\"which python\", shell=True,stdout=subprocess.PIPE)\n",
    "print(p.stdout.readline().decode(\"utf8\"))\n",
    "\n",
    "\n",
    "p = subprocess.Popen(\"pwd\", shell=True,stdout=subprocess.PIPE, cwd=\"/Users/izhangxm/WorkStation/PycharmProjects/N15Tracing\")\n",
    "print(p.stdout.readline().decode(\"utf8\"))\n",
    "\n",
    "# print(env['PWD'])\n"
   ]
  },
  {
   "cell_type": "code",
   "execution_count": null,
   "metadata": {},
   "outputs": [],
   "source": [
    "from diffrax import diffeqsolve, ODETerm, Dopri5\n",
    "import jax.numpy as jnp\n",
    "\n"
   ]
  },
  {
   "cell_type": "code",
   "execution_count": null,
   "metadata": {},
   "outputs": [],
   "source": [
    "def f(t, y, args):\n",
    "    return -y\n",
    "\n",
    "term = ODETerm(f)\n",
    "solver = Dopri5()\n",
    "y0 = jnp.array([2., 3.])\n",
    "sol = diffeqsolve(term, solver, t0=0, t1=20, dt0=0.1, y0=y0)\n",
    "print(sol.ts)  # DeviceArray([0.   , 1.   , 2.   , 3.    ])\n",
    "print(sol.ys)"
   ]
  },
  {
   "cell_type": "code",
   "execution_count": null,
   "metadata": {},
   "outputs": [],
   "source": []
  },
  {
   "cell_type": "code",
   "execution_count": 2,
   "metadata": {},
   "outputs": [
    {
     "name": "stdout",
     "output_type": "stream",
     "text": [
      "[0. 1. 2. 3.]\n",
      "[[  1.          8.154856   36.94542   140.59927  ]\n",
      " [  0.          5.4365735  29.556372  120.51395  ]]\n"
     ]
    }
   ],
   "source": [
    "from diffrax import diffeqsolve, Dopri5, ODETerm, SaveAt, PIDController\n",
    "\n",
    "def f(t, ys, args):\n",
    "    # print(args,y,t)\n",
    "    y, z = ys\n",
    "    return [3*y - 2*z, 2*y-z]\n",
    "    # return t\n",
    "\n",
    "term = ODETerm(f)\n",
    "solver = Dopri5()\n",
    "saveat = SaveAt(ts=[0., 1., 2., 3.])\n",
    "stepsize_controller = PIDController(rtol=1e-5, atol=1e-5)\n",
    "\n",
    "sol = diffeqsolve(term, solver, t0=0, t1=3, dt0=0.1, y0=[1,0], saveat=saveat, args=(123,1,2), stepsize_controller=stepsize_controller)\n",
    "import numpy as np\n",
    "\n",
    "print(sol.ts)  # DeviceArray([0.   , 1.   , 2.   , 3.    ])\n",
    "print(np.array(sol.ys))  # DeviceArray([1.   , 0.368, 0.135, 0.0498])"
   ]
  },
  {
   "cell_type": "code",
   "execution_count": 5,
   "metadata": {},
   "outputs": [
    {
     "name": "stdout",
     "output_type": "stream",
     "text": [
      "36.94528049465325\n",
      "29.556224395722598\n"
     ]
    }
   ],
   "source": [
    "print((1+4)*np.e**2)\n",
    "print(2 * 2 * np.e**2)\n"
   ]
  },
  {
   "cell_type": "code",
   "execution_count": null,
   "metadata": {},
   "outputs": [],
   "source": []
  },
  {
   "cell_type": "code",
   "execution_count": null,
   "outputs": [],
   "source": [],
   "metadata": {
    "collapsed": false
   }
  }
 ],
 "metadata": {
  "kernelspec": {
   "display_name": "pymc4",
   "language": "python",
   "name": "python3"
  },
  "language_info": {
   "codemirror_mode": {
    "name": "ipython",
    "version": 3
   },
   "file_extension": ".py",
   "mimetype": "text/x-python",
   "name": "python",
   "nbconvert_exporter": "python",
   "pygments_lexer": "ipython3",
   "version": "3.9.16"
  },
  "orig_nbformat": 4
 },
 "nbformat": 4,
 "nbformat_minor": 2
}
