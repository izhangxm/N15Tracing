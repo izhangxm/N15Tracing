{
 "cells": [
  {
   "cell_type": "code",
   "execution_count": null,
   "id": "df2a6300-2037-40fa-8c59-75762f304eee",
   "metadata": {},
   "outputs": [],
   "source": [
    "\n",
    "import arviz as az\n",
    "import pandas as pd\n",
    "import matplotlib.pyplot as plt\n",
    "import numpy as np\n",
    "import pymc as pm\n",
    "from itertools import product\n",
    "import os.path as osp\n",
    "from scipy.optimize import leastsq\n",
    "from scipy.integrate import solve_ivp\n",
    "from scipy.integrate import odeint\n",
    "import math\n",
    "import time\n",
    "import sunode\n",
    "import sunode.wrappers.as_aesara\n",
    "%config InlineBackend.figure_format = 'retina'\n",
    "az.style.use(\"arviz-darkgrid\")\n",
    "from IPython.display import display as print\n"
   ]
  },
  {
   "cell_type": "code",
   "execution_count": 7,
   "id": "dea1abcc-a03f-4269-8dd2-035700fe1588",
   "metadata": {},
   "outputs": [
    {
     "name": "stderr",
     "output_type": "stream",
     "text": [
      "Auto-assigning NUTS sampler...\n",
      "Initializing NUTS using jitter+adapt_diag...\n",
      "Multiprocess sampling (4 chains in 4 jobs)\n",
      "NUTS: [normal, lognormal, halfnormal]\n"
     ]
    },
    {
     "data": {
      "text/html": [
       "\n",
       "<style>\n",
       "    /* Turns off some styling */\n",
       "    progress {\n",
       "        /* gets rid of default border in Firefox and Opera. */\n",
       "        border: none;\n",
       "        /* Needs to be in here for Safari polyfill so background images work as expected. */\n",
       "        background-size: auto;\n",
       "    }\n",
       "    progress:not([value]), progress:not([value])::-webkit-progress-bar {\n",
       "        background: repeating-linear-gradient(45deg, #7e7e7e, #7e7e7e 10px, #5c5c5c 10px, #5c5c5c 20px);\n",
       "    }\n",
       "    .progress-bar-interrupted, .progress-bar-interrupted::-webkit-progress-bar {\n",
       "        background: #F44336;\n",
       "    }\n",
       "</style>\n"
      ],
      "text/plain": [
       "<IPython.core.display.HTML object>"
      ]
     },
     "metadata": {},
     "output_type": "display_data"
    },
    {
     "data": {
      "text/html": [
       "\n",
       "    <div>\n",
       "      <progress value='8000' class='' max='8000' style='width:300px; height:20px; vertical-align: middle;'></progress>\n",
       "      100.00% [8000/8000 00:03&lt;00:00 Sampling 4 chains, 4 divergences]\n",
       "    </div>\n",
       "    "
      ],
      "text/plain": [
       "<IPython.core.display.HTML object>"
      ]
     },
     "metadata": {},
     "output_type": "display_data"
    },
    {
     "name": "stderr",
     "output_type": "stream",
     "text": [
      "Sampling 4 chains for 1_000 tune and 1_000 draw iterations (4_000 + 4_000 draws total) took 3 seconds.\n"
     ]
    }
   ],
   "source": [
    "test_model = pm.Model()\n",
    "\n",
    "mu = 4\n",
    "sigma= 0.1\n",
    "\n",
    "with test_model:\n",
    "    \n",
    "    normal = pm.Normal('normal',mu=mu, sigma=sigma)\n",
    "    lognormal = pm.LogNormal('lognormal',mu=mu, sigma=sigma)\n",
    "    halfnormal = pm.HalfNormal('halfnormal', sigma = sigma)\n",
    "    \n",
    "    \n",
    "    aa = normal + lognormal\n",
    "    idata = pm.sample()"
   ]
  },
  {
   "cell_type": "code",
   "execution_count": 8,
   "id": "24b5abd2-3ca4-4430-9428-1fa65e06f129",
   "metadata": {},
   "outputs": [
    {
     "data": {
      "text/html": [
       "<div>\n",
       "<style scoped>\n",
       "    .dataframe tbody tr th:only-of-type {\n",
       "        vertical-align: middle;\n",
       "    }\n",
       "\n",
       "    .dataframe tbody tr th {\n",
       "        vertical-align: top;\n",
       "    }\n",
       "\n",
       "    .dataframe thead th {\n",
       "        text-align: right;\n",
       "    }\n",
       "</style>\n",
       "<table border=\"1\" class=\"dataframe\">\n",
       "  <thead>\n",
       "    <tr style=\"text-align: right;\">\n",
       "      <th></th>\n",
       "      <th>mean</th>\n",
       "      <th>sd</th>\n",
       "      <th>hdi_3%</th>\n",
       "      <th>hdi_97%</th>\n",
       "      <th>mcse_mean</th>\n",
       "      <th>mcse_sd</th>\n",
       "      <th>ess_bulk</th>\n",
       "      <th>ess_tail</th>\n",
       "      <th>r_hat</th>\n",
       "    </tr>\n",
       "  </thead>\n",
       "  <tbody>\n",
       "    <tr>\n",
       "      <th>normal</th>\n",
       "      <td>4.000</td>\n",
       "      <td>0.100</td>\n",
       "      <td>3.823</td>\n",
       "      <td>4.195</td>\n",
       "      <td>0.002</td>\n",
       "      <td>0.001</td>\n",
       "      <td>2374.0</td>\n",
       "      <td>2436.0</td>\n",
       "      <td>1.0</td>\n",
       "    </tr>\n",
       "    <tr>\n",
       "      <th>lognormal</th>\n",
       "      <td>54.784</td>\n",
       "      <td>5.408</td>\n",
       "      <td>45.119</td>\n",
       "      <td>65.427</td>\n",
       "      <td>0.106</td>\n",
       "      <td>0.075</td>\n",
       "      <td>2550.0</td>\n",
       "      <td>2329.0</td>\n",
       "      <td>1.0</td>\n",
       "    </tr>\n",
       "    <tr>\n",
       "      <th>halfnormal</th>\n",
       "      <td>0.079</td>\n",
       "      <td>0.060</td>\n",
       "      <td>0.000</td>\n",
       "      <td>0.186</td>\n",
       "      <td>0.001</td>\n",
       "      <td>0.001</td>\n",
       "      <td>1830.0</td>\n",
       "      <td>1633.0</td>\n",
       "      <td>1.0</td>\n",
       "    </tr>\n",
       "  </tbody>\n",
       "</table>\n",
       "</div>"
      ],
      "text/plain": [
       "              mean     sd  hdi_3%  hdi_97%  mcse_mean  mcse_sd  ess_bulk  \\\n",
       "normal       4.000  0.100   3.823    4.195      0.002    0.001    2374.0   \n",
       "lognormal   54.784  5.408  45.119   65.427      0.106    0.075    2550.0   \n",
       "halfnormal   0.079  0.060   0.000    0.186      0.001    0.001    1830.0   \n",
       "\n",
       "            ess_tail  r_hat  \n",
       "normal        2436.0    1.0  \n",
       "lognormal     2329.0    1.0  \n",
       "halfnormal    1633.0    1.0  "
      ]
     },
     "execution_count": 8,
     "metadata": {},
     "output_type": "execute_result"
    }
   ],
   "source": [
    "az.summary(idata)"
   ]
  },
  {
   "cell_type": "code",
   "execution_count": 13,
   "id": "016a1fa4-a2fa-4ae9-abb9-4975cb02682e",
   "metadata": {},
   "outputs": [
    {
     "data": {
      "image/svg+xml": [
       "<?xml version=\"1.0\" encoding=\"UTF-8\" standalone=\"no\"?>\n",
       "<!DOCTYPE svg PUBLIC \"-//W3C//DTD SVG 1.1//EN\"\n",
       " \"http://www.w3.org/Graphics/SVG/1.1/DTD/svg11.dtd\">\n",
       "<!-- Generated by graphviz version 6.0.2 (20221126.1951)\n",
       " -->\n",
       "<!-- Pages: 1 -->\n",
       "<svg width=\"420pt\" height=\"83pt\"\n",
       " viewBox=\"0.00 0.00 420.21 82.95\" xmlns=\"http://www.w3.org/2000/svg\" xmlns:xlink=\"http://www.w3.org/1999/xlink\">\n",
       "<g id=\"graph0\" class=\"graph\" transform=\"scale(1 1) rotate(0) translate(4 78.95)\">\n",
       "<polygon fill=\"white\" stroke=\"none\" points=\"-4,4 -4,-78.95 416.21,-78.95 416.21,4 -4,4\"/>\n",
       "<!-- normal -->\n",
       "<g id=\"node1\" class=\"node\">\n",
       "<title>normal</title>\n",
       "<ellipse fill=\"none\" stroke=\"black\" cx=\"49.5\" cy=\"-37.48\" rx=\"49.49\" ry=\"37.45\"/>\n",
       "<text text-anchor=\"middle\" x=\"49.5\" y=\"-48.78\" font-family=\"Times,serif\" font-size=\"14.00\">normal</text>\n",
       "<text text-anchor=\"middle\" x=\"49.5\" y=\"-33.78\" font-family=\"Times,serif\" font-size=\"14.00\">~</text>\n",
       "<text text-anchor=\"middle\" x=\"49.5\" y=\"-18.78\" font-family=\"Times,serif\" font-size=\"14.00\">Normal</text>\n",
       "</g>\n",
       "<!-- lognormal -->\n",
       "<g id=\"node2\" class=\"node\">\n",
       "<title>lognormal</title>\n",
       "<ellipse fill=\"none\" stroke=\"black\" cx=\"184.5\" cy=\"-37.48\" rx=\"67.76\" ry=\"37.45\"/>\n",
       "<text text-anchor=\"middle\" x=\"184.5\" y=\"-48.78\" font-family=\"Times,serif\" font-size=\"14.00\">lognormal</text>\n",
       "<text text-anchor=\"middle\" x=\"184.5\" y=\"-33.78\" font-family=\"Times,serif\" font-size=\"14.00\">~</text>\n",
       "<text text-anchor=\"middle\" x=\"184.5\" y=\"-18.78\" font-family=\"Times,serif\" font-size=\"14.00\">LogNormal</text>\n",
       "</g>\n",
       "<!-- halfnormal -->\n",
       "<g id=\"node3\" class=\"node\">\n",
       "<title>halfnormal</title>\n",
       "<ellipse fill=\"none\" stroke=\"black\" cx=\"341.5\" cy=\"-37.48\" rx=\"70.92\" ry=\"37.45\"/>\n",
       "<text text-anchor=\"middle\" x=\"341.5\" y=\"-48.78\" font-family=\"Times,serif\" font-size=\"14.00\">halfnormal</text>\n",
       "<text text-anchor=\"middle\" x=\"341.5\" y=\"-33.78\" font-family=\"Times,serif\" font-size=\"14.00\">~</text>\n",
       "<text text-anchor=\"middle\" x=\"341.5\" y=\"-18.78\" font-family=\"Times,serif\" font-size=\"14.00\">HalfNormal</text>\n",
       "</g>\n",
       "</g>\n",
       "</svg>\n"
      ],
      "text/plain": [
       "<graphviz.graphs.Digraph at 0x7f6272c15f90>"
      ]
     },
     "execution_count": 13,
     "metadata": {},
     "output_type": "execute_result"
    }
   ],
   "source": [
    "pm.model_to_graphviz(test_model)"
   ]
  },
  {
   "cell_type": "code",
   "execution_count": 12,
   "id": "d10d4b73-9e3f-4120-95ca-d055fa17aed9",
   "metadata": {},
   "outputs": [
    {
     "data": {
      "text/plain": [
       "54.87182439907008"
      ]
     },
     "execution_count": 12,
     "metadata": {},
     "output_type": "execute_result"
    }
   ],
   "source": [
    "\n",
    "np.exp(mu + sigma**2/2)\n"
   ]
  },
  {
   "cell_type": "code",
   "execution_count": 29,
   "id": "5e6236aa-f6ea-4b8e-a201-f78071bd209c",
   "metadata": {},
   "outputs": [
    {
     "data": {
      "image/png": "[encoded data removed]",
      "text/plain": [
       "<Figure size 720x480 with 1 Axes>"
      ]
     },
     "metadata": {
      "image/png": {
       "height": 491,
       "width": 731
      }
     },
     "output_type": "display_data"
    }
   ],
   "source": [
    "from __future__ import division\n",
    "\n",
    "import numpy as np\n",
    "import matplotlib.pylab as plt\n",
    "\n",
    "\n",
    "mu = 3\n",
    "sigma = 10\n",
    "\n",
    "\n",
    "# 转移矩阵Q,因为是模拟数字，只有一维，所以Q是个数字(1*1)\n",
    "def q(x):\n",
    "    return np.exp(-(x-mu)**2/(sigma**2))\n",
    "\n",
    "\n",
    "# 按照转移矩阵Q生成样本\n",
    "def qsample():\n",
    "    return np.random.normal(mu, sigma)\n",
    "\n",
    "\n",
    "# 目标分布函数p(x)\n",
    "def p(x):\n",
    "    return 0.3*np.exp(-(x-0.3)**2) + 0.7* np.exp(-(x-2.)**2/0.3)\n",
    "\n",
    "\n",
    "def mcmcsample(n = 20000):\n",
    "    sample = np.zeros(n)\n",
    "    sample[0] = 0.5 # 初始化\n",
    "    for i in range(n-1):\n",
    "        qs = qsample()  # 从转移矩阵Q(x)得到样本xt\n",
    "        u = np.random.rand()  # 均匀分布\n",
    "        alpha_i_j = (p(qs) * q(sample[i])) / (p(sample[i]) * qs)   # alpha(i, j)表达式\n",
    "        if u < min(alpha_i_j, 1):\n",
    "            sample[i + 1] = qs  # 接受\n",
    "        else:\n",
    "            sample[i + 1] = sample[i]  # 拒绝\n",
    "\n",
    "    return sample\n",
    "\n",
    "\n",
    "x = np.arange(0, 4, 0.1)\n",
    "realdata = p(x)\n",
    "sampledata = mcmcsample()\n",
    "plt.plot(x, realdata, 'g', lw = 3)  # 理想数据\n",
    "plt.plot(x,q(x),'r')  # Q(x)转移矩阵的数据\n",
    "plt.hist(sampledata, bins=x, density=True, fc='c')  # 采样生成的数据\n",
    "plt.show()\n"
   ]
  },
  {
   "cell_type": "code",
   "execution_count": 17,
   "id": "0071feb5-979f-4347-8327-aa508b2dba94",
   "metadata": {},
   "outputs": [
    {
     "data": {
      "text/plain": [
       "5.196152422706632"
      ]
     },
     "execution_count": 18,
     "metadata": {},
     "output_type": "execute_result"
    }
   ],
   "source": [
    "np.linalg.norm([1,2,2,3,3])"
   ]
  },
  {
   "cell_type": "code",
   "execution_count": 34,
   "id": "f8b58472-d72c-46d0-abe1-63b2d3efe2bd",
   "metadata": {},
   "outputs": [
    {
     "data": {
      "text/plain": [
       "binomial_rv{0, (0, 0), int64, False}.out"
      ]
     },
     "execution_count": 34,
     "metadata": {},
     "output_type": "execute_result"
    }
   ],
   "source": [
    "ax = pm.Binomial.dist(n=10, p=0.2)\n",
    "ax"
   ]
  },
  {
   "cell_type": "code",
   "execution_count": 1,
   "id": "355fef13-aaf7-4a8b-a579-178f09b7a8c6",
   "metadata": {},
   "outputs": [],
   "source": [
    "from sympy import symbols, Eq, Function,dsolve,sin,Derivative\n",
    "import sympy as sm\n",
    "from sympy.solvers.ode.systems import dsolve_system\n"
   ]
  },
  {
   "cell_type": "code",
   "execution_count": 12,
   "id": "a918bb9d-39b7-4268-87c5-d7e9f6dcfff5",
   "metadata": {},
   "outputs": [
    {
     "data": {
      "text/latex": [
       "$\\displaystyle f{\\left(x \\right)} - 2 \\frac{d}{d x} f{\\left(x \\right)} + \\frac{d^{2}}{d x^{2}} f{\\left(x \\right)} = \\sin{\\left(x \\right)}$"
      ],
      "text/plain": [
       "Eq(f(x) - 2*Derivative(f(x), x) + Derivative(f(x), (x, 2)), sin(x))"
      ]
     },
     "execution_count": 12,
     "metadata": {},
     "output_type": "execute_result"
    }
   ],
   "source": [
    "\n",
    "f = symbols('f', cls = Function)\n",
    "x = symbols(\"x\")\n",
    "diffeq = Eq(f(x).diff(x, 2) - 2*f(x).diff(x) + f(x), sm.sin(x))\n",
    "diffeq\n"
   ]
  },
  {
   "cell_type": "code",
   "execution_count": 13,
   "id": "79eee110-bd02-48bb-a874-09f73de52344",
   "metadata": {},
   "outputs": [
    {
     "data": {
      "text/latex": [
       "$\\displaystyle f{\\left(x \\right)} = - C_{1} \\sqrt{\\alpha} e^{- \\sqrt{\\alpha} x} + C_{2} \\sqrt{\\alpha} e^{\\sqrt{\\alpha} x}$"
      ],
      "text/plain": [
       "Eq(f(x), -C1*sqrt(alpha)*exp(-sqrt(alpha)*x) + C2*sqrt(alpha)*exp(sqrt(alpha)*x))"
      ]
     },
     "metadata": {},
     "output_type": "display_data"
    },
    {
     "data": {
      "text/latex": [
       "$\\displaystyle g{\\left(x \\right)} = C_{1} e^{- \\sqrt{\\alpha} x} + C_{2} e^{\\sqrt{\\alpha} x}$"
      ],
      "text/plain": [
       "Eq(g(x), C1*exp(-sqrt(alpha)*x) + C2*exp(sqrt(alpha)*x))"
      ]
     },
     "metadata": {},
     "output_type": "display_data"
    }
   ],
   "source": [
    "f, g = symbols(\"f g\", cls=Function)\n",
    "x, alpha= symbols(\"x alpha\")\n",
    "eqs = [Eq(f(x).diff(x),  alpha*g(x)), Eq(g(x).diff(x), f(x))]\n",
    "res = dsolve_system(eqs)\n",
    "for x in res[0]:\n",
    "    print(x)\n"
   ]
  },
  {
   "cell_type": "code",
   "execution_count": 19,
   "id": "3a931598-2bb0-4514-add3-98c583f3c951",
   "metadata": {},
   "outputs": [
    {
     "data": {
      "text/latex": [
       "$\\displaystyle \\frac{d}{d t} \\operatorname{xNH}_{3}{\\left(t \\right)} = 2 k_{1} \\operatorname{xN}_{2}{\\left(t \\right)} + k_{10} \\operatorname{xNOrg}{\\left(t \\right)} - k_{2} \\operatorname{xNH}_{3}{\\left(t \\right)} - k_{6} \\operatorname{xNO}_{2}{\\left(t \\right)} \\operatorname{xNO}_{3}{\\left(t \\right)} + k_{7} \\operatorname{xNO}_{3}{\\left(t \\right)} - k_{9} \\operatorname{xNH}_{3}{\\left(t \\right)}$"
      ],
      "text/plain": [
       "Eq(Derivative(xNH3(t), t), 2*k1*xN2(t) + k10*xNOrg(t) - k2*xNH3(t) - k6*xNO2(t)*xNO3(t) + k7*xNO3(t) - k9*xNH3(t))"
      ]
     },
     "metadata": {},
     "output_type": "display_data"
    },
    {
     "data": {
      "text/latex": [
       "$\\displaystyle \\frac{d}{d t} \\operatorname{xNO}_{3}{\\left(t \\right)} = k_{11} \\operatorname{xNOrg}{\\left(t \\right)} + k_{3} \\operatorname{xNO}_{2}{\\left(t \\right)} - k_{4} \\operatorname{xNO}_{3}{\\left(t \\right)} - k_{7} \\operatorname{xNO}_{3}{\\left(t \\right)} - k_{8} \\operatorname{xNO}_{3}{\\left(t \\right)}$"
      ],
      "text/plain": [
       "Eq(Derivative(xNO3(t), t), k11*xNOrg(t) + k3*xNO2(t) - k4*xNO3(t) - k7*xNO3(t) - k8*xNO3(t))"
      ]
     },
     "metadata": {},
     "output_type": "display_data"
    },
    {
     "data": {
      "text/latex": [
       "$\\displaystyle \\frac{d}{d t} \\operatorname{xNO}_{2}{\\left(t \\right)} = k_{2} \\operatorname{xNH}_{3}{\\left(t \\right)} - k_{3} \\operatorname{xNO}_{2}{\\left(t \\right)} + k_{4} \\operatorname{xNO}_{3}{\\left(t \\right)} - 2 k_{5} \\operatorname{xNO}_{2}{\\left(t \\right)} - k_{6} \\operatorname{xNO}_{2}{\\left(t \\right)} \\operatorname{xNO}_{3}{\\left(t \\right)}$"
      ],
      "text/plain": [
       "Eq(Derivative(xNO2(t), t), k2*xNH3(t) - k3*xNO2(t) + k4*xNO3(t) - 2*k5*xNO2(t) - k6*xNO2(t)*xNO3(t))"
      ]
     },
     "metadata": {},
     "output_type": "display_data"
    },
    {
     "data": {
      "text/latex": [
       "$\\displaystyle \\frac{d}{d t} \\operatorname{xNOrg}{\\left(t \\right)} = - k_{10} \\operatorname{xNOrg}{\\left(t \\right)} - k_{11} \\operatorname{xNOrg}{\\left(t \\right)} + k_{8} \\operatorname{xNO}_{3}{\\left(t \\right)} + k_{9} \\operatorname{xNH}_{3}{\\left(t \\right)}$"
      ],
      "text/plain": [
       "Eq(Derivative(xNOrg(t), t), -k10*xNOrg(t) - k11*xNOrg(t) + k8*xNO3(t) + k9*xNH3(t))"
      ]
     },
     "metadata": {},
     "output_type": "display_data"
    },
    {
     "data": {
      "text/latex": [
       "$\\displaystyle \\frac{d}{d t} \\operatorname{xN}_{2}{\\left(t \\right)} = - k_{1} \\operatorname{xN}_{2}{\\left(t \\right)} + k_{5} \\operatorname{xNO}_{2}{\\left(t \\right)} + k_{6} \\operatorname{xNO}_{2}{\\left(t \\right)} \\operatorname{xNO}_{3}{\\left(t \\right)}$"
      ],
      "text/plain": [
       "Eq(Derivative(xN2(t), t), -k1*xN2(t) + k5*xNO2(t) + k6*xNO2(t)*xNO3(t))"
      ]
     },
     "metadata": {},
     "output_type": "display_data"
    },
    {
     "data": {
      "text/latex": [
       "$\\displaystyle \\frac{d}{d t} \\operatorname{ANH}_{3}{\\left(t \\right)} = \\frac{2 k_{1} \\left(\\operatorname{AN}_{2}{\\left(t \\right)} - \\operatorname{ANH}_{3}{\\left(t \\right)}\\right) \\operatorname{xN}_{2}{\\left(t \\right)} + k_{10} \\left(- \\operatorname{ANH}_{3}{\\left(t \\right)} + \\operatorname{ANOrg}{\\left(t \\right)}\\right) \\operatorname{xNOrg}{\\left(t \\right)} + k_{7} \\left(- \\operatorname{ANH}_{3}{\\left(t \\right)} + \\operatorname{ANO}_{3}{\\left(t \\right)}\\right) \\operatorname{xNO}_{3}{\\left(t \\right)}}{\\operatorname{xNH}_{3}{\\left(t \\right)}}$"
      ],
      "text/plain": [
       "Eq(Derivative(ANH3(t), t), (2*k1*(AN2(t) - ANH3(t))*xN2(t) + k10*(-ANH3(t) + ANOrg(t))*xNOrg(t) + k7*(-ANH3(t) + ANO3(t))*xNO3(t))/xNH3(t))"
      ]
     },
     "metadata": {},
     "output_type": "display_data"
    },
    {
     "data": {
      "text/latex": [
       "$\\displaystyle \\frac{d}{d t} \\operatorname{ANO}_{3}{\\left(t \\right)} = \\frac{k_{11} \\left(- \\operatorname{ANO}_{3}{\\left(t \\right)} + \\operatorname{ANOrg}{\\left(t \\right)}\\right) \\operatorname{xNOrg}{\\left(t \\right)} + k_{2} \\left(\\operatorname{ANO}_{2}{\\left(t \\right)} - \\operatorname{ANO}_{3}{\\left(t \\right)}\\right) \\operatorname{xNH}_{3}{\\left(t \\right)}}{\\operatorname{xNO}_{3}{\\left(t \\right)}}$"
      ],
      "text/plain": [
       "Eq(Derivative(ANO3(t), t), (k11*(-ANO3(t) + ANOrg(t))*xNOrg(t) + k2*(ANO2(t) - ANO3(t))*xNH3(t))/xNO3(t))"
      ]
     },
     "metadata": {},
     "output_type": "display_data"
    },
    {
     "data": {
      "text/latex": [
       "$\\displaystyle \\frac{d}{d t} \\operatorname{ANO}_{2}{\\left(t \\right)} = \\frac{k_{2} \\left(\\operatorname{ANH}_{3}{\\left(t \\right)} - \\operatorname{ANO}_{2}{\\left(t \\right)}\\right) \\operatorname{xNH}_{3}{\\left(t \\right)} + k_{4} \\left(- \\operatorname{ANO}_{2}{\\left(t \\right)} + \\operatorname{ANO}_{3}{\\left(t \\right)}\\right) \\operatorname{xNO}_{3}{\\left(t \\right)}}{\\operatorname{xNO}_{2}{\\left(t \\right)}}$"
      ],
      "text/plain": [
       "Eq(Derivative(ANO2(t), t), (k2*(ANH3(t) - ANO2(t))*xNH3(t) + k4*(-ANO2(t) + ANO3(t))*xNO3(t))/xNO2(t))"
      ]
     },
     "metadata": {},
     "output_type": "display_data"
    },
    {
     "data": {
      "text/latex": [
       "$\\displaystyle \\frac{d}{d t} \\operatorname{ANOrg}{\\left(t \\right)} = \\frac{k_{8} \\left(\\operatorname{ANO}_{3}{\\left(t \\right)} - \\operatorname{ANOrg}{\\left(t \\right)}\\right) \\operatorname{xNO}_{3}{\\left(t \\right)} + k_{9} \\left(\\operatorname{ANH}_{3}{\\left(t \\right)} - \\operatorname{ANOrg}{\\left(t \\right)}\\right) \\operatorname{xNH}_{3}{\\left(t \\right)}}{\\operatorname{xNOrg}{\\left(t \\right)}}$"
      ],
      "text/plain": [
       "Eq(Derivative(ANOrg(t), t), (k8*(ANO3(t) - ANOrg(t))*xNO3(t) + k9*(ANH3(t) - ANOrg(t))*xNH3(t))/xNOrg(t))"
      ]
     },
     "metadata": {},
     "output_type": "display_data"
    },
    {
     "data": {
      "text/latex": [
       "$\\displaystyle \\frac{d}{d t} \\operatorname{AN}_{2}{\\left(t \\right)} = \\frac{k_{5} \\left(- \\operatorname{AN}_{2}{\\left(t \\right)} + \\operatorname{ANO}_{2}{\\left(t \\right)}\\right) \\operatorname{xNO}_{2}{\\left(t \\right)} + k_{6} \\left(- \\operatorname{AN}_{2}{\\left(t \\right)} + \\operatorname{ANH}_{3}{\\left(t \\right)} \\operatorname{ANO}_{2}{\\left(t \\right)}\\right) \\operatorname{xNO}_{2}{\\left(t \\right)} \\operatorname{xNO}_{3}{\\left(t \\right)}}{\\operatorname{xN}_{2}{\\left(t \\right)}}$"
      ],
      "text/plain": [
       "Eq(Derivative(AN2(t), t), (k5*(-AN2(t) + ANO2(t))*xNO2(t) + k6*(-AN2(t) + ANH3(t)*ANO2(t))*xNO2(t)*xNO3(t))/xN2(t))"
      ]
     },
     "metadata": {},
     "output_type": "display_data"
    }
   ],
   "source": [
    "class Parames(object):\n",
    "    def __init__(self):\n",
    "        for x in range(11):\n",
    "            setattr(self, f'k{x+1}', symbols(f\"k{x+1}\") )\n",
    "    \n",
    "class CCTS(object):\n",
    "    def __init__(self, t):\n",
    "        cct_names = ['xNH3', 'xNO3', 'xNO2', 'xNOrg', 'xN2', 'ANH3','ANO3','ANO2','ANOrg','AN2']\n",
    "        \n",
    "        for _c in cct_names:\n",
    "            _f = symbols(f'{_c}', cls=Function)\n",
    "            setattr(self, f'{_c}', _f(t) )\n",
    "            setattr(self, f'dc_{_c}', _f(t).diff(t) )\n",
    "        \n",
    "def get_diff_eqs(t, c, p):\n",
    "    \n",
    "    k_kinetics = np.repeat(1, 11).astype(np.uint8)\n",
    "    r1 = p.k1 * c.xN2 if k_kinetics[0] == 1 else p.k1\n",
    "    r2 = p.k2 * c.xNH3 if k_kinetics[1] == 1 else p.k2\n",
    "    r3 = p.k3 * c.xNO2 if k_kinetics[2] == 1 else p.k3\n",
    "    r4 = p.k4 * c.xNO3 if k_kinetics[3] == 1 else p.k4\n",
    "    r5 = p.k5 * c.xNO2 if k_kinetics[4] == 1 else p.k5\n",
    "    r6 = p.k6 * c.xNO2 * c.xNO3 if k_kinetics[5] == 1 else p.k6\n",
    "    r7 = p.k7 * c.xNO3 if k_kinetics[6] == 1 else p.k7\n",
    "    r8 = p.k8 * c.xNO3 if k_kinetics[7] == 1 else p.k8\n",
    "    r9 = p.k9 * c.xNH3 if k_kinetics[8] == 1 else p.k9\n",
    "    r10 = p.k10 * c.xNOrg if k_kinetics[9] == 1 else p.k10\n",
    "    r11 = p.k11 * c.xNOrg if k_kinetics[10] == 1 else p.k11\n",
    "\n",
    "    \n",
    "    dc_xNH3 = Eq(c.dc_xNH3, 2 * r1 + r7 + r10 - r2 - r6 - r9)\n",
    "    dc_xNO3 = Eq(c.dc_xNO3, r3 - r7 - r4 - r8 + r11)\n",
    "    dc_xNO2 = Eq(c.dc_xNO2, r2 + r4 - r3 - r6 - 2 * r5)\n",
    "    dc_xNOrg =Eq(c.dc_xNOrg,  r8 + r9 - r10 - r11)\n",
    "    dc_xN2 = Eq(c.dc_xN2, r5 + r6 - r1)\n",
    "\n",
    "    dc_ANH3 = Eq(c.dc_ANH3, (2 * r1 * (c.AN2 - c.ANH3) + (c.ANO3 - c.ANH3) * r7 + (c.ANOrg - c.ANH3) * r10) / c.xNH3)\n",
    "    dc_ANO3 = Eq(c.dc_ANO3, ((c.ANO2 - c.ANO3) * r2 + (c.ANOrg - c.ANO3) * r11) / c.xNO3)\n",
    "    dc_ANO2 = Eq(c.dc_ANO2, ((c.ANH3 - c.ANO2) * r2 + (c.ANO3 - c.ANO2) * r4) / c.xNO2)\n",
    "    dc_ANOrg = Eq(c.dc_ANOrg, ((c.ANO3 - c.ANOrg) * r8 + (c.ANH3 - c.ANOrg) * r9) / c.xNOrg)\n",
    "    dc_AN2 = Eq(c.dc_AN2, ((c.ANO2 - c.AN2) * r5 + (c.ANO2 * c.ANH3 - c.AN2) * r6) / c.xN2)\n",
    "    \n",
    "    dcdts = [dc_xNH3, dc_xNO3, dc_xNO2, dc_xNOrg, dc_xN2, dc_ANH3, dc_ANO3, dc_ANO2, dc_ANOrg, dc_AN2]\n",
    "    \n",
    "    \n",
    "    # dcdts =  {\n",
    "    #     'xNH3': dc_xNH3,\n",
    "    #     'xNO3': dc_xNO3,\n",
    "    #     'xNO2': dc_xNO2,\n",
    "    #     'xNOrg': dc_xNOrg,\n",
    "    #     'xN2': dc_xN2,\n",
    "    #     'ANH3': dc_ANH3,\n",
    "    #     'ANO3': dc_ANO3,\n",
    "    #     'ANO2': dc_ANO2,\n",
    "    #     'ANOrg': dc_ANOrg,\n",
    "    #     'AN2': dc_AN2,\n",
    "    # }\n",
    "\n",
    "    return dcdts\n",
    "\n",
    "\n",
    "t= symbols(\"t\")\n",
    "\n",
    "eqs = get_diff_eqs(t,CCTS(t), Parames())\n",
    "\n",
    "for x in eqs:\n",
    "    print(x)\n"
   ]
  },
  {
   "cell_type": "code",
   "execution_count": 20,
   "id": "3b3b89d7-5c58-479a-acb9-62cb25024a84",
   "metadata": {},
   "outputs": [
    {
     "ename": "NotImplementedError",
     "evalue": "\nThe system of ODEs passed cannot be solved by dsolve_system.",
     "output_type": "error",
     "traceback": [
      "\u001b[0;31m---------------------------------------------------------------------------\u001b[0m",
      "\u001b[0;31mNotImplementedError\u001b[0m                       Traceback (most recent call last)",
      "Cell \u001b[0;32mIn[20], line 2\u001b[0m\n\u001b[1;32m      1\u001b[0m \u001b[38;5;66;03m# dsolve(eqs)\u001b[39;00m\n\u001b[0;32m----> 2\u001b[0m \u001b[43mdsolve_system\u001b[49m\u001b[43m(\u001b[49m\u001b[43meqs\u001b[49m\u001b[43m)\u001b[49m\n",
      "File \u001b[0;32m~/miniconda3/envs/pymcmain/lib/python3.9/site-packages/sympy/solvers/ode/systems.py:2116\u001b[0m, in \u001b[0;36mdsolve_system\u001b[0;34m(eqs, funcs, t, ics, doit, simplify)\u001b[0m\n\u001b[1;32m   2113\u001b[0m         sol \u001b[38;5;241m=\u001b[39m \u001b[38;5;28;01mNone\u001b[39;00m\n\u001b[1;32m   2115\u001b[0m     \u001b[38;5;28;01mif\u001b[39;00m sol \u001b[38;5;129;01mis\u001b[39;00m \u001b[38;5;28;01mNone\u001b[39;00m:\n\u001b[0;32m-> 2116\u001b[0m         sol \u001b[38;5;241m=\u001b[39m \u001b[43m_component_solver\u001b[49m\u001b[43m(\u001b[49m\u001b[43mcanon_eq\u001b[49m\u001b[43m,\u001b[49m\u001b[43m \u001b[49m\u001b[43mfuncs\u001b[49m\u001b[43m,\u001b[49m\u001b[43m \u001b[49m\u001b[43mt\u001b[49m\u001b[43m)\u001b[49m\n\u001b[1;32m   2118\u001b[0m     sols\u001b[38;5;241m.\u001b[39mappend(sol)\n\u001b[1;32m   2120\u001b[0m \u001b[38;5;28;01mif\u001b[39;00m sols:\n",
      "File \u001b[0;32m~/miniconda3/envs/pymcmain/lib/python3.9/site-packages/sympy/solvers/ode/systems.py:1785\u001b[0m, in \u001b[0;36m_component_solver\u001b[0;34m(eqs, funcs, t)\u001b[0m\n\u001b[1;32m   1780\u001b[0m sol \u001b[38;5;241m=\u001b[39m []\n\u001b[1;32m   1782\u001b[0m \u001b[38;5;28;01mfor\u001b[39;00m wcc \u001b[38;5;129;01min\u001b[39;00m components:\n\u001b[1;32m   1783\u001b[0m \n\u001b[1;32m   1784\u001b[0m     \u001b[38;5;66;03m# wcc_sol: List of Equations\u001b[39;00m\n\u001b[0;32m-> 1785\u001b[0m     sol \u001b[38;5;241m+\u001b[39m\u001b[38;5;241m=\u001b[39m \u001b[43m_weak_component_solver\u001b[49m\u001b[43m(\u001b[49m\u001b[43mwcc\u001b[49m\u001b[43m,\u001b[49m\u001b[43m \u001b[49m\u001b[43mt\u001b[49m\u001b[43m)\u001b[49m\n\u001b[1;32m   1787\u001b[0m \u001b[38;5;66;03m# sol: List of Equations\u001b[39;00m\n\u001b[1;32m   1788\u001b[0m \u001b[38;5;28;01mreturn\u001b[39;00m sol\n",
      "File \u001b[0;32m~/miniconda3/envs/pymcmain/lib/python3.9/site-packages/sympy/solvers/ode/systems.py:1766\u001b[0m, in \u001b[0;36m_weak_component_solver\u001b[0;34m(wcc, t)\u001b[0m\n\u001b[1;32m   1763\u001b[0m scc_sol \u001b[38;5;241m=\u001b[39m _strong_component_solver(comp_eqs, funcs, t)\n\u001b[1;32m   1765\u001b[0m \u001b[38;5;28;01mif\u001b[39;00m scc_sol \u001b[38;5;129;01mis\u001b[39;00m \u001b[38;5;28;01mNone\u001b[39;00m:\n\u001b[0;32m-> 1766\u001b[0m     \u001b[38;5;28;01mraise\u001b[39;00m \u001b[38;5;167;01mNotImplementedError\u001b[39;00m(filldedent(\u001b[38;5;124m'''\u001b[39m\n\u001b[1;32m   1767\u001b[0m \u001b[38;5;124m        The system of ODEs passed cannot be solved by dsolve_system.\u001b[39m\n\u001b[1;32m   1768\u001b[0m \u001b[38;5;124m    \u001b[39m\u001b[38;5;124m'''\u001b[39m))\n\u001b[1;32m   1770\u001b[0m \u001b[38;5;66;03m# scc_sol: List of equations\u001b[39;00m\n\u001b[1;32m   1771\u001b[0m \u001b[38;5;66;03m# scc_sol is a solution\u001b[39;00m\n\u001b[1;32m   1772\u001b[0m sol \u001b[38;5;241m+\u001b[39m\u001b[38;5;241m=\u001b[39m scc_sol\n",
      "\u001b[0;31mNotImplementedError\u001b[0m: \nThe system of ODEs passed cannot be solved by dsolve_system."
     ]
    }
   ],
   "source": [
    "# dsolve(eqs)\n",
    "dsolve_system(eqs)"
   ]
  },
  {
   "cell_type": "code",
   "execution_count": 17,
   "id": "4ec99140-7cd0-4422-946b-47d1f8b46660",
   "metadata": {},
   "outputs": [
    {
     "data": {
      "text/latex": [
       "$\\displaystyle \\frac{d}{d t} H{\\left(t \\right)} = \\alpha H{\\left(t \\right)} - \\beta H{\\left(t \\right)} L{\\left(t \\right)}$"
      ],
      "text/plain": [
       "Eq(Derivative(H(t), t), alpha*H(t) - beta*H(t)*L(t))"
      ]
     },
     "metadata": {},
     "output_type": "display_data"
    },
    {
     "data": {
      "text/latex": [
       "$\\displaystyle \\frac{d}{d t} L{\\left(t \\right)} = \\delta H{\\left(t \\right)} L{\\left(t \\right)} - \\gamma L{\\left(t \\right)}$"
      ],
      "text/plain": [
       "Eq(Derivative(L(t), t), delta*H(t)*L(t) - gamma*L(t))"
      ]
     },
     "metadata": {},
     "output_type": "display_data"
    },
    {
     "ename": "NotImplementedError",
     "evalue": "\nThe system of ODEs passed cannot be solved by dsolve_system.",
     "output_type": "error",
     "traceback": [
      "\u001b[0;31m---------------------------------------------------------------------------\u001b[0m",
      "\u001b[0;31mNotImplementedError\u001b[0m                       Traceback (most recent call last)",
      "Cell \u001b[0;32mIn[17], line 8\u001b[0m\n\u001b[1;32m      6\u001b[0m \u001b[38;5;28mprint\u001b[39m(eqs[\u001b[38;5;241m0\u001b[39m])\n\u001b[1;32m      7\u001b[0m \u001b[38;5;28mprint\u001b[39m(eqs[\u001b[38;5;241m1\u001b[39m])\n\u001b[0;32m----> 8\u001b[0m \u001b[43mdsolve_system\u001b[49m\u001b[43m(\u001b[49m\u001b[43meqs\u001b[49m\u001b[43m)\u001b[49m\n\u001b[1;32m      9\u001b[0m xxx \u001b[38;5;241m=\u001b[39m dsolve(eqs)\n\u001b[1;32m     11\u001b[0m \u001b[38;5;28mprint\u001b[39m(xxx)\n",
      "File \u001b[0;32m~/miniconda3/envs/pymcmain/lib/python3.9/site-packages/sympy/solvers/ode/systems.py:2116\u001b[0m, in \u001b[0;36mdsolve_system\u001b[0;34m(eqs, funcs, t, ics, doit, simplify)\u001b[0m\n\u001b[1;32m   2113\u001b[0m         sol \u001b[38;5;241m=\u001b[39m \u001b[38;5;28;01mNone\u001b[39;00m\n\u001b[1;32m   2115\u001b[0m     \u001b[38;5;28;01mif\u001b[39;00m sol \u001b[38;5;129;01mis\u001b[39;00m \u001b[38;5;28;01mNone\u001b[39;00m:\n\u001b[0;32m-> 2116\u001b[0m         sol \u001b[38;5;241m=\u001b[39m \u001b[43m_component_solver\u001b[49m\u001b[43m(\u001b[49m\u001b[43mcanon_eq\u001b[49m\u001b[43m,\u001b[49m\u001b[43m \u001b[49m\u001b[43mfuncs\u001b[49m\u001b[43m,\u001b[49m\u001b[43m \u001b[49m\u001b[43mt\u001b[49m\u001b[43m)\u001b[49m\n\u001b[1;32m   2118\u001b[0m     sols\u001b[38;5;241m.\u001b[39mappend(sol)\n\u001b[1;32m   2120\u001b[0m \u001b[38;5;28;01mif\u001b[39;00m sols:\n",
      "File \u001b[0;32m~/miniconda3/envs/pymcmain/lib/python3.9/site-packages/sympy/solvers/ode/systems.py:1785\u001b[0m, in \u001b[0;36m_component_solver\u001b[0;34m(eqs, funcs, t)\u001b[0m\n\u001b[1;32m   1780\u001b[0m sol \u001b[38;5;241m=\u001b[39m []\n\u001b[1;32m   1782\u001b[0m \u001b[38;5;28;01mfor\u001b[39;00m wcc \u001b[38;5;129;01min\u001b[39;00m components:\n\u001b[1;32m   1783\u001b[0m \n\u001b[1;32m   1784\u001b[0m     \u001b[38;5;66;03m# wcc_sol: List of Equations\u001b[39;00m\n\u001b[0;32m-> 1785\u001b[0m     sol \u001b[38;5;241m+\u001b[39m\u001b[38;5;241m=\u001b[39m \u001b[43m_weak_component_solver\u001b[49m\u001b[43m(\u001b[49m\u001b[43mwcc\u001b[49m\u001b[43m,\u001b[49m\u001b[43m \u001b[49m\u001b[43mt\u001b[49m\u001b[43m)\u001b[49m\n\u001b[1;32m   1787\u001b[0m \u001b[38;5;66;03m# sol: List of Equations\u001b[39;00m\n\u001b[1;32m   1788\u001b[0m \u001b[38;5;28;01mreturn\u001b[39;00m sol\n",
      "File \u001b[0;32m~/miniconda3/envs/pymcmain/lib/python3.9/site-packages/sympy/solvers/ode/systems.py:1766\u001b[0m, in \u001b[0;36m_weak_component_solver\u001b[0;34m(wcc, t)\u001b[0m\n\u001b[1;32m   1763\u001b[0m scc_sol \u001b[38;5;241m=\u001b[39m _strong_component_solver(comp_eqs, funcs, t)\n\u001b[1;32m   1765\u001b[0m \u001b[38;5;28;01mif\u001b[39;00m scc_sol \u001b[38;5;129;01mis\u001b[39;00m \u001b[38;5;28;01mNone\u001b[39;00m:\n\u001b[0;32m-> 1766\u001b[0m     \u001b[38;5;28;01mraise\u001b[39;00m \u001b[38;5;167;01mNotImplementedError\u001b[39;00m(filldedent(\u001b[38;5;124m'''\u001b[39m\n\u001b[1;32m   1767\u001b[0m \u001b[38;5;124m        The system of ODEs passed cannot be solved by dsolve_system.\u001b[39m\n\u001b[1;32m   1768\u001b[0m \u001b[38;5;124m    \u001b[39m\u001b[38;5;124m'''\u001b[39m))\n\u001b[1;32m   1770\u001b[0m \u001b[38;5;66;03m# scc_sol: List of equations\u001b[39;00m\n\u001b[1;32m   1771\u001b[0m \u001b[38;5;66;03m# scc_sol is a solution\u001b[39;00m\n\u001b[1;32m   1772\u001b[0m sol \u001b[38;5;241m+\u001b[39m\u001b[38;5;241m=\u001b[39m scc_sol\n",
      "\u001b[0;31mNotImplementedError\u001b[0m: \nThe system of ODEs passed cannot be solved by dsolve_system."
     ]
    }
   ],
   "source": [
    "t, alpha, beta, delta, gamma = symbols(\"t alpha, beta, delta, gamma\")\n",
    "H, L = symbols(\"H, L\", cls=Function)\n",
    "\n",
    "eqs = [Eq(H(t).diff(t), alpha * H(t) - beta*L(t)*H(t)), Eq(L(t).diff(t), delta*L(t)*H(t) - gamma * L(t))]\n",
    "\n",
    "print(eqs[0])\n",
    "print(eqs[1])\n",
    "dsolve_system(eqs)\n",
    "xxx = dsolve(eqs)\n",
    "\n",
    "print(xxx)"
   ]
  },
  {
   "cell_type": "code",
   "execution_count": 49,
   "id": "c1a6a492-d499-465a-95b5-6785dc7ad795",
   "metadata": {},
   "outputs": [
    {
     "data": {
      "text/plain": [
       "sympy.core.function.FunctionClass"
      ]
     },
     "execution_count": 49,
     "metadata": {},
     "output_type": "execute_result"
    }
   ],
   "source": [
    "type(sin)"
   ]
  },
  {
   "cell_type": "code",
   "execution_count": null,
   "id": "7a7bc0a9-df38-4409-a316-aebecffabdc8",
   "metadata": {},
   "outputs": [],
   "source": []
  }
 ],
 "metadata": {
  "kernelspec": {
   "display_name": "Python 3 (ipykernel)",
   "language": "python",
   "name": "python3"
  },
  "language_info": {
   "codemirror_mode": {
    "name": "ipython",
    "version": 3
   },
   "file_extension": ".py",
   "mimetype": "text/x-python",
   "name": "python",
   "nbconvert_exporter": "python",
   "pygments_lexer": "ipython3",
   "version": "3.9.15"
  },
  "vscode": {
   "interpreter": {
    "hash": "cbd2c194b49ea80345e8ea18e3a6000c76ee140cf13f4f15affb9019c7957e43"
   }
  }
 },
 "nbformat": 4,
 "nbformat_minor": 5
}
